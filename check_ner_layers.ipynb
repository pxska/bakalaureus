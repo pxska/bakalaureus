{
 "cells": [
  {
   "cell_type": "code",
   "execution_count": 15,
   "metadata": {},
   "outputs": [],
   "source": [
    "import os\n",
    "import re\n",
    "\n",
    "from estnltk import EnvelopingBaseSpan\n",
    "from estnltk import Text, Layer, Annotation, EnvelopingSpan, Span\n",
    "from estnltk.converters import json_to_text\n",
    "from estnltk.layer_operations import extract_sections"
   ]
  },
  {
   "cell_type": "code",
   "execution_count": 126,
   "metadata": {},
   "outputs": [],
   "source": [
    "file = \"P2rnu_Tori_Tori_id22633_1866a\"\n",
    "#\n",
    "#Harju_Keila_Saue_id13436_1885a\n",
    "with open(\"vallakohus_esimene/\" + str(file) + \".txt\", \"r\", encoding=\"utf-8\") as txt, open(\"vallakohus_esimene/\" + str(file) + \".ann\", \"r\", encoding=\"utf-8\") as ann:\n",
    "    text = txt.read()\n",
    "    ann = ann.read()\n",
    "with open(\"vallakohtufailid_json/\" + str(file) + \".json\", \"r\", encoding=\"utf-8\") as json:\n",
    "    imported = json_to_text(json.read())"
   ]
  },
  {
   "cell_type": "code",
   "execution_count": 127,
   "metadata": {},
   "outputs": [
    {
     "name": "stdout",
     "output_type": "stream",
     "text": [
      "T1\tKoht 25 39\tWanna Wändrast\n",
      "T2\tIsik 41 52\tHans oünapu\n",
      "T3\tKoht 70 77\tTorrist\n",
      "T4\tIsik 79 89\tMihkel Enn\n",
      "T5\tIsik 91 95\tHans\n",
      "T6\tIsik 106 112\tMihkle\n",
      "T7\tIsik 184 188\tHans\n",
      "T8\tIsik 274 280\tMihkel\n",
      "T9\tMuu 330 340\tWändramees\n",
      "T10\tIsik 341 350\tKarl Nuut\n",
      "T11\tIsik 364 370\tMihkle\n",
      "T12\tIsik 377 382\tKadri\n",
      "T13\tIsik 387 394\tHansoga\n",
      "T14\tIsik 443 449\tMihkel\n",
      "T15\tIsik 466 470\tHans\n",
      "T16\tIsik 479 485\tMihkle\n",
      "T17\tIsik 500 506\tmihkel\n",
      "T18\tIsik 511 515\tSimo\n",
      "T19\tIsik 550 556\tmihkel\n",
      "T20\tIsik 624 629\tKadri\n",
      "T21\tIsik 738 742\tsiim\n",
      "T22\tIsik 763 769\tMihkel\n",
      "T23\tMuu 909 919\tWändramees\n",
      "T24\tIsik 919 923\tHans\n",
      "\n"
     ]
    }
   ],
   "source": [
    "print(ann)"
   ]
  },
  {
   "cell_type": "code",
   "execution_count": 128,
   "metadata": {},
   "outputs": [
    {
     "data": {
      "text/html": [
       "<h4>Layer</h4>\n",
       "\n",
       "\n",
       "<table border=\"1\" class=\"dataframe\">\n",
       "  <thead>\n",
       "    <tr style=\"text-align: right;\">\n",
       "      <th>layer name</th>\n",
       "      <th>attributes</th>\n",
       "      <th>parent</th>\n",
       "      <th>enveloping</th>\n",
       "      <th>ambiguous</th>\n",
       "      <th>span count</th>\n",
       "    </tr>\n",
       "  </thead>\n",
       "  <tbody>\n",
       "    <tr>\n",
       "      <td>gold_ner</td>\n",
       "      <td>nertag</td>\n",
       "      <td>None</td>\n",
       "      <td>None</td>\n",
       "      <td>False</td>\n",
       "      <td>23</td>\n",
       "    </tr>\n",
       "  </tbody>\n",
       "</table>\n",
       "<table border=\"1\" class=\"dataframe\">\n",
       "  <thead>\n",
       "    <tr style=\"text-align: right;\">\n",
       "      <th>text</th>\n",
       "      <th>nertag</th>\n",
       "    </tr>\n",
       "  </thead>\n",
       "  <tbody>\n",
       "    <tr>\n",
       "      <td>['Ette olli ']</td>\n",
       "      <td>MISC</td>\n",
       "    </tr>\n",
       "    <tr>\n",
       "      <td>['Wanna', 'Wändrast']</td>\n",
       "      <td>LOC</td>\n",
       "    </tr>\n",
       "    <tr>\n",
       "      <td>['Hans', 'oünapu']</td>\n",
       "      <td>PER</td>\n",
       "    </tr>\n",
       "    <tr>\n",
       "      <td>['Torrist']</td>\n",
       "      <td>LOC</td>\n",
       "    </tr>\n",
       "    <tr>\n",
       "      <td>['Mihkel', 'Enn']</td>\n",
       "      <td>PER</td>\n",
       "    </tr>\n",
       "    <tr>\n",
       "      <td>['Hans']</td>\n",
       "      <td>PER</td>\n",
       "    </tr>\n",
       "    <tr>\n",
       "      <td>['Mihkle']</td>\n",
       "      <td>PER</td>\n",
       "    </tr>\n",
       "    <tr>\n",
       "      <td>['Hans']</td>\n",
       "      <td>PER</td>\n",
       "    </tr>\n",
       "    <tr>\n",
       "      <td>['Mihkel']</td>\n",
       "      <td>PER</td>\n",
       "    </tr>\n",
       "    <tr>\n",
       "      <td>['Wändramees']</td>\n",
       "      <td>MISC</td>\n",
       "    </tr>\n",
       "    <tr>\n",
       "      <td>['Karl', 'Nuut']</td>\n",
       "      <td>PER</td>\n",
       "    </tr>\n",
       "    <tr>\n",
       "      <td>['Mihkle']</td>\n",
       "      <td>PER</td>\n",
       "    </tr>\n",
       "    <tr>\n",
       "      <td>['Kadri']</td>\n",
       "      <td>PER</td>\n",
       "    </tr>\n",
       "    <tr>\n",
       "      <td>['Hansoga']</td>\n",
       "      <td>PER</td>\n",
       "    </tr>\n",
       "    <tr>\n",
       "      <td>['Mihkel']</td>\n",
       "      <td>PER</td>\n",
       "    </tr>\n",
       "    <tr>\n",
       "      <td>['Hans']</td>\n",
       "      <td>PER</td>\n",
       "    </tr>\n",
       "    <tr>\n",
       "      <td>['Mihkle']</td>\n",
       "      <td>PER</td>\n",
       "    </tr>\n",
       "    <tr>\n",
       "      <td>['mihkel']</td>\n",
       "      <td>PER</td>\n",
       "    </tr>\n",
       "    <tr>\n",
       "      <td>['Simo']</td>\n",
       "      <td>PER</td>\n",
       "    </tr>\n",
       "    <tr>\n",
       "      <td>['mihkel']</td>\n",
       "      <td>PER</td>\n",
       "    </tr>\n",
       "    <tr>\n",
       "      <td>['Kadri']</td>\n",
       "      <td>PER</td>\n",
       "    </tr>\n",
       "    <tr>\n",
       "      <td>['siim']</td>\n",
       "      <td>PER</td>\n",
       "    </tr>\n",
       "    <tr>\n",
       "      <td>['Mihkel']</td>\n",
       "      <td>PER</td>\n",
       "    </tr>\n",
       "  </tbody>\n",
       "</table>"
      ],
      "text/plain": [
       "Layer(name='gold_ner', attributes=('nertag',), spans=SL[Span(['Ette olli '], [{'nertag': 'MISC'}]),\n",
       "Span(['Wanna', 'Wändrast'], [{'nertag': 'LOC'}]),\n",
       "Span(['Hans', 'oünapu'], [{'nertag': 'PER'}]),\n",
       "Span(['Torrist'], [{'nertag': 'LOC'}]),\n",
       "Span(['Mihkel', 'Enn'], [{'nertag': 'PER'}]),\n",
       "Span(['Hans'], [{'nertag': 'PER'}]),\n",
       "Span(['Mihkle'], [{'nertag': 'PER'}]),\n",
       "Span(['Hans'], [{'nertag': 'PER'}]),\n",
       "Span(['Mihkel'], [{'nertag': 'PER'}]),\n",
       "Span(['Wändramees'], [{'nertag': 'MISC'}]),\n",
       "Span(['Karl', 'Nuut'], [{'nertag': 'PER'}]),\n",
       "Span(['Mihkle'], [{'nertag': 'PER'}]),\n",
       "Span(['Kadri'], [{'nertag': 'PER'}]),\n",
       "Span(['Hansoga'], [{'nertag': 'PER'}]),\n",
       "Span(['Mihkel'], [{'nertag': 'PER'}]),\n",
       "Span(['Hans'], [{'nertag': 'PER'}]),\n",
       "Span(['Mihkle'], [{'nertag': 'PER'}]),\n",
       "Span(['mihkel'], [{'nertag': 'PER'}]),\n",
       "Span(['Simo'], [{'nertag': 'PER'}]),\n",
       "Span(['mihkel'], [{'nertag': 'PER'}]),\n",
       "Span(['Kadri'], [{'nertag': 'PER'}]),\n",
       "Span(['siim'], [{'nertag': 'PER'}]),\n",
       "Span(['Mihkel'], [{'nertag': 'PER'}])])"
      ]
     },
     "execution_count": 128,
     "metadata": {},
     "output_type": "execute_result"
    }
   ],
   "source": [
    "imported.gold_ner"
   ]
  },
  {
   "cell_type": "code",
   "execution_count": 15,
   "metadata": {},
   "outputs": [
    {
     "data": {
      "text/plain": [
       "'\\nPeawanem: A Pechmann, kõrwamehed J Pechmann J Poomann\\n\\nEtte astus Aesmalt Ewa Kriiman ja kaebas et Liisu Reinwaldt on teda peksnud. L Reinwaldt on oma lehma tema ohra ääre heinamaale köide pannud, ja kui ta seda L. Reinwaldile on ütlenud on see teda 2 korda selga ja 1 kord wastu silmi, kisa peale tulnud tema tüttar appi seegi on L. R. käest wastu silmi 2 korda lüüa saanud. Ta silmad on lõhki olnud. Siis on E. K. tüttar L. R. otseti maha löönud.\\n\\nII. Ette sai kutsutud Liisu Reinwaldt ja küsitud kas see kaebtus tõsi on. Ta ajas seda küll esiti waleks, aga pärast jälle tõsi olema et ta on löönud.\\n\\nKohus mõistis: Liisu Reinwaldt maksab 1 rubla trahwi et ta kohtu kulli teutas, 1 rubla et ta kohtu ees nii häbemata oli, 1 rubla et ta teist peksis ja 50 kop. et tea oma lehma teise heinamaale köide wiis. Ewa Kriimanni tüttar maksab 50 kop et ta L. Reinwaldi maha lõi.\\n\\nSellega oli Lõppetud,\\n\\nPeawanem A Pechmann, kõrwamehed J Pechmann J Poomann\\n\\nKirjutaja J. Jürgensohn\\n\\n\\n'"
      ]
     },
     "execution_count": 15,
     "metadata": {},
     "output_type": "execute_result"
    }
   ],
   "source": [
    "imported.text"
   ]
  }
 ],
 "metadata": {
  "kernelspec": {
   "display_name": "Python 3",
   "language": "python",
   "name": "python3"
  },
  "language_info": {
   "codemirror_mode": {
    "name": "ipython",
    "version": 3
   },
   "file_extension": ".py",
   "mimetype": "text/x-python",
   "name": "python",
   "nbconvert_exporter": "python",
   "pygments_lexer": "ipython3",
   "version": "3.7.9"
  }
 },
 "nbformat": 4,
 "nbformat_minor": 4
}
