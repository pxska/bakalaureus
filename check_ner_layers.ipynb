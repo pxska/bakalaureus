{
 "cells": [
  {
   "cell_type": "code",
   "execution_count": 110,
   "metadata": {},
   "outputs": [],
   "source": [
    "import os\n",
    "import re\n",
    "\n",
    "from estnltk import EnvelopingBaseSpan\n",
    "from estnltk import Text, Layer, Annotation, EnvelopingSpan, Span\n",
    "from estnltk.converters import json_to_text"
   ]
  },
  {
   "cell_type": "code",
   "execution_count": 111,
   "metadata": {},
   "outputs": [],
   "source": [
    "file = \"Harju_Hageri_Kohila_id10509_1871a\"\n",
    "\n",
    "with open(\"vallakohus_esimene\\\\\" + str(file) + \".txt\", \"r\", encoding=\"utf-8\") as txt, open(\"vallakohus_esimene\\\\\" + str(file) + \".ann\", \"r\", encoding=\"utf-8\") as ann:\n",
    "    text = txt.read()\n",
    "    ann = ann.read()\n",
    "with open(\"vallakohtufailid_json\\\\\" + str(file) + \".json\", \"r\", encoding=\"utf-8\") as json:\n",
    "    imported = json_to_text(json.read())"
   ]
  },
  {
   "cell_type": "code",
   "execution_count": 112,
   "metadata": {},
   "outputs": [
    {
     "name": "stdout",
     "output_type": "stream",
     "text": [
      "T1\tIsik 88 102\tTõnnis Neidman\n",
      "T2\tIsik 190 204\tJohan Neufeldt\n",
      "T3\tIsik 257 271\tJohan Neufeldt\n",
      "T4\tIsik 404 416\tJaan Kaldale\n",
      "T5\tIsik 438 451\tJohan Jakobus\n",
      "T6\tIsik 503 513\tJaan Kalda\n",
      "T7\tIsik 790 804\tJohan Neufeldi\n",
      "T9\tIsik 1064 1074\tJaan Kalda\n",
      "T10\tIsik 1168 1182\tJohan Neufeldt\n",
      "T11\tIsik 1366 1381\tJohhan Neufeldt\n",
      "T12\tIsik 1399 1411\tJaan Kaldale\n",
      "T13\tIsik 1453 1463\tJaan Kalda\n",
      "T14\tIsik 837 847\tJohan Trou\n",
      "\n"
     ]
    }
   ],
   "source": [
    "print(ann)"
   ]
  },
  {
   "cell_type": "code",
   "execution_count": 113,
   "metadata": {},
   "outputs": [
    {
     "data": {
      "text/html": [
       "<h4>Layer</h4>\n",
       "\n",
       "\n",
       "<table border=\"1\" class=\"dataframe\">\n",
       "  <thead>\n",
       "    <tr style=\"text-align: right;\">\n",
       "      <th>layer name</th>\n",
       "      <th>attributes</th>\n",
       "      <th>parent</th>\n",
       "      <th>enveloping</th>\n",
       "      <th>ambiguous</th>\n",
       "      <th>span count</th>\n",
       "    </tr>\n",
       "  </thead>\n",
       "  <tbody>\n",
       "    <tr>\n",
       "      <td>gold_ner</td>\n",
       "      <td>nertag</td>\n",
       "      <td>None</td>\n",
       "      <td>None</td>\n",
       "      <td>False</td>\n",
       "      <td>8</td>\n",
       "    </tr>\n",
       "  </tbody>\n",
       "</table>\n",
       "<table border=\"1\" class=\"dataframe\">\n",
       "  <thead>\n",
       "    <tr style=\"text-align: right;\">\n",
       "      <th>text</th>\n",
       "      <th>nertag</th>\n",
       "    </tr>\n",
       "  </thead>\n",
       "  <tbody>\n",
       "    <tr>\n",
       "      <td>['Tõnnis', 'Neidman']</td>\n",
       "      <td>PER</td>\n",
       "    </tr>\n",
       "    <tr>\n",
       "      <td>['Johan', 'Neufeldt']</td>\n",
       "      <td>PER</td>\n",
       "    </tr>\n",
       "    <tr>\n",
       "      <td>['Johan', 'Neufeldt']</td>\n",
       "      <td>PER</td>\n",
       "    </tr>\n",
       "    <tr>\n",
       "      <td>['Jaan', 'Kaldale']</td>\n",
       "      <td>PER</td>\n",
       "    </tr>\n",
       "    <tr>\n",
       "      <td>['Johan', 'Jakobus']</td>\n",
       "      <td>PER</td>\n",
       "    </tr>\n",
       "    <tr>\n",
       "      <td>['Jaan', 'Kalda']</td>\n",
       "      <td>PER</td>\n",
       "    </tr>\n",
       "    <tr>\n",
       "      <td>['Johan', 'Neufeldi']</td>\n",
       "      <td>PER</td>\n",
       "    </tr>\n",
       "    <tr>\n",
       "      <td>['Johhan', 'Neufeldt']</td>\n",
       "      <td>PER</td>\n",
       "    </tr>\n",
       "  </tbody>\n",
       "</table>"
      ],
      "text/plain": [
       "Layer(name='gold_ner', attributes=('nertag',), spans=SL[Span(['Tõnnis', 'Neidman'], [{'nertag': 'PER'}]),\n",
       "Span(['Johan', 'Neufeldt'], [{'nertag': 'PER'}]),\n",
       "Span(['Johan', 'Neufeldt'], [{'nertag': 'PER'}]),\n",
       "Span(['Jaan', 'Kaldale'], [{'nertag': 'PER'}]),\n",
       "Span(['Johan', 'Jakobus'], [{'nertag': 'PER'}]),\n",
       "Span(['Jaan', 'Kalda'], [{'nertag': 'PER'}]),\n",
       "Span(['Johan', 'Neufeldi'], [{'nertag': 'PER'}]),\n",
       "Span(['Johhan', 'Neufeldt'], [{'nertag': 'PER'}])])"
      ]
     },
     "execution_count": 113,
     "metadata": {},
     "output_type": "execute_result"
    }
   ],
   "source": [
    "imported.gold_ner"
   ]
  }
 ],
 "metadata": {
  "kernelspec": {
   "display_name": "Python 3",
   "language": "python",
   "name": "python3"
  },
  "language_info": {
   "codemirror_mode": {
    "name": "ipython",
    "version": 3
   },
   "file_extension": ".py",
   "mimetype": "text/x-python",
   "name": "python",
   "nbconvert_exporter": "python",
   "pygments_lexer": "ipython3",
   "version": "3.7.9"
  }
 },
 "nbformat": 4,
 "nbformat_minor": 4
}
