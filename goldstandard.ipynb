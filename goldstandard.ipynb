{
 "cells": [
  {
   "cell_type": "code",
   "execution_count": 1,
   "metadata": {},
   "outputs": [],
   "source": [
    "import os\n",
    "\n",
    "from estnltk import Text, Layer"
   ]
  },
  {
   "cell_type": "code",
   "execution_count": 2,
   "metadata": {},
   "outputs": [],
   "source": [
    "with open(\"vallakohus_esimene\\Harju_Hageri_Kohila_id1346_1888a.ann\", encoding=\"UTF8\") as annotated_file:\n",
    "    annotation = annotated_file.read()\n",
    "with open(\"vallakohus_esimene\\Harju_Hageri_Kohila_id1346_1888a.txt\", encoding=\"UTF8\") as txt:\n",
    "    textfile = txt.read()"
   ]
  },
  {
   "cell_type": "code",
   "execution_count": 3,
   "metadata": {},
   "outputs": [
    {
     "name": "stdout",
     "output_type": "stream",
     "text": [
      "T2\tIsik 38 49\tJuhan Kõerw\n",
      "T4\tIsik 88 101\tKustas Wäljar\n",
      "T5\tKO_koht 164 178\tRabiwere mõisa\n",
      "T1\tKO_koht 16 30\tWäljapere koha\n",
      "T3\tKO_koht 64 78\tRabiwere mõisa\n",
      "T6\tIsik 222 235\tKustas Wäljar\n",
      "T7\tIsik 300 313\tKustas Wäljar\n",
      "T8\tKO_koht 503 512\tWäljapere\n",
      "T9\tIsik 564 577\tKustas Wäljar\n",
      "T10\tIsik 695 708\tKustas Wäljar\n",
      "\n"
     ]
    }
   ],
   "source": [
    "print(annotation)"
   ]
  },
  {
   "cell_type": "code",
   "execution_count": 4,
   "metadata": {},
   "outputs": [
    {
     "data": {
      "text/html": [
       "<table border=\"1\" class=\"dataframe\">\n",
       "  <thead>\n",
       "    <tr style=\"text-align: right;\">\n",
       "      <th>text</th>\n",
       "    </tr>\n",
       "  </thead>\n",
       "  <tbody>\n",
       "    <tr>\n",
       "      <td><div align = \"left\">Kohtu ette tuli Wäljapere koha omanik Juhan Kõerw ja kaebas: et Rabiwere mõisa teu mees Kustas Wäljar olla tema hobused (kolm hoost) tema karja maalt ära ajanud ja Rabiwere mõisa teu majade juure aja külge kinni sidunud. </br>Kustas Wäljar sai ette kutsutud ja küsitud, miks ta hobused sinna oli ajanud? Kustas Wäljar ütles: Mina ei ajanud mitte hobusid sinna, waid hobused oliwad ise sinna tulnud, mina nägin neid seal ja käskisin metsa wahti neid kinni sidud, mida ka metsawaht minu käsu peale tegi. </br>Kui Wäljapere sulane hobusid tahtnud sealt ära wia, siis ei olla Kustas Wäljar neid mitte tahtnud lasta ära wia, waid nõudnud 3 (kolm) rubla selle eest, et ta neid olla öö läbi seal walwanud. </br>Et Kustas Wäljar ilma miski pohjuseta hobusid keelas ära wiimast, mõistis kohus temale 1 (üks) rubla trahwi. </br>Kohus on mõistetud ja trahw maksetud. </br>&quot;</br></div></td>\n",
       "    </tr>\n",
       "  </tbody>\n",
       "</table>"
      ],
      "text/plain": [
       "Text(text='Kohtu ette tuli Wäljapere koha omanik Juhan Kõerw ja kaebas: et Rabiwere mõisa teu mees Kustas Wäljar olla tema hobused (kolm hoost) tema karja maalt ära ajanud ja Rabiwere mõisa teu majade juure aja külge kinni sidunud. \\nKustas Wäljar sai ette kutsutud ja küsitud, miks ta hobused sinna oli ajanud? Kustas Wäljar ütles: Mina ei ajanud mitte hobusid sinna, waid hobused oliwad ise sinna tulnud, mina nägin neid seal ja käskisin metsa wahti neid kinni sidud, mida ka metsawaht minu käsu peale tegi. \\nKui Wäljapere sulane hobusid tahtnud sealt ära wia, siis ei olla Kustas Wäljar neid mitte tahtnud lasta ära wia, waid nõudnud 3 (kolm) rubla selle eest, et ta neid olla öö läbi seal walwanud. \\nEt Kustas Wäljar ilma miski pohjuseta hobusid keelas ära wiimast, mõistis kohus temale 1 (üks) rubla trahwi. \\nKohus on mõistetud ja trahw maksetud. \\n\"\\n')"
      ]
     },
     "execution_count": 4,
     "metadata": {},
     "output_type": "execute_result"
    }
   ],
   "source": [
    "textfile = textfile.replace(\".\", \". \")\n",
    "text = Text(textfile)\n",
    "text"
   ]
  },
  {
   "cell_type": "code",
   "execution_count": 5,
   "metadata": {},
   "outputs": [],
   "source": [
    "layer = Layer(name=\"gold_ner\", text_object=text, attributes=['gold_nertag'])"
   ]
  },
  {
   "cell_type": "code",
   "execution_count": 6,
   "metadata": {},
   "outputs": [],
   "source": [
    "annotation_dictionary = {}\n",
    "\n",
    "splitted_annotation = annotation.split(\"\\n\")\n",
    "for row in splitted_annotation:\n",
    "    splitted_row = row.split(\"\\t\")\n",
    "    if (len(splitted_row) == 3):\n",
    "        trigger = splitted_row[0]\n",
    "        location = splitted_row[1]\n",
    "        entity = splitted_row[2]\n",
    "        annotation_dictionary[trigger] = [location, entity]\n",
    "    else:\n",
    "        continue"
   ]
  },
  {
   "cell_type": "code",
   "execution_count": 7,
   "metadata": {},
   "outputs": [],
   "source": [
    "for key in annotation_dictionary:\n",
    "    value = annotation_dictionary.get(key)\n",
    "    ner, loc = value[0].split(\" \")[0], (value[0].split(\" \")[1], value[0].split(\" \")[2])\n",
    "    if ner == \"Isik\":\n",
    "        layer.add_annotation((int(loc[0]), int(loc[1])), gold_nertag=\"PER\")\n",
    "    if ner == \"KO_koht\":\n",
    "        layer.add_annotation((int(loc[0]), int(loc[1])), gold_nertag=\"LOC\")\n",
    "text.add_layer(layer)"
   ]
  },
  {
   "cell_type": "code",
   "execution_count": 8,
   "metadata": {},
   "outputs": [
    {
     "data": {
      "text/html": [
       "<h4>Layer</h4>\n",
       "\n",
       "\n",
       "<table border=\"1\" class=\"dataframe\">\n",
       "  <thead>\n",
       "    <tr style=\"text-align: right;\">\n",
       "      <th>layer name</th>\n",
       "      <th>attributes</th>\n",
       "      <th>parent</th>\n",
       "      <th>enveloping</th>\n",
       "      <th>ambiguous</th>\n",
       "      <th>span count</th>\n",
       "    </tr>\n",
       "  </thead>\n",
       "  <tbody>\n",
       "    <tr>\n",
       "      <td>gold_ner</td>\n",
       "      <td>gold_nertag</td>\n",
       "      <td>None</td>\n",
       "      <td>None</td>\n",
       "      <td>False</td>\n",
       "      <td>10</td>\n",
       "    </tr>\n",
       "  </tbody>\n",
       "</table>\n",
       "<table border=\"1\" class=\"dataframe\">\n",
       "  <thead>\n",
       "    <tr style=\"text-align: right;\">\n",
       "      <th>text</th>\n",
       "      <th>gold_nertag</th>\n",
       "    </tr>\n",
       "  </thead>\n",
       "  <tbody>\n",
       "    <tr>\n",
       "      <td>Wäljapere koha</td>\n",
       "      <td>LOC</td>\n",
       "    </tr>\n",
       "    <tr>\n",
       "      <td>Juhan Kõerw</td>\n",
       "      <td>PER</td>\n",
       "    </tr>\n",
       "    <tr>\n",
       "      <td>Rabiwere mõisa</td>\n",
       "      <td>LOC</td>\n",
       "    </tr>\n",
       "    <tr>\n",
       "      <td>Kustas Wäljar</td>\n",
       "      <td>PER</td>\n",
       "    </tr>\n",
       "    <tr>\n",
       "      <td>Rabiwere mõisa</td>\n",
       "      <td>LOC</td>\n",
       "    </tr>\n",
       "    <tr>\n",
       "      <td>Kustas Wäljar</td>\n",
       "      <td>PER</td>\n",
       "    </tr>\n",
       "    <tr>\n",
       "      <td>Kustas Wäljar</td>\n",
       "      <td>PER</td>\n",
       "    </tr>\n",
       "    <tr>\n",
       "      <td>Wäljapere</td>\n",
       "      <td>LOC</td>\n",
       "    </tr>\n",
       "    <tr>\n",
       "      <td>Kustas Wäljar</td>\n",
       "      <td>PER</td>\n",
       "    </tr>\n",
       "    <tr>\n",
       "      <td>Kustas Wäljar</td>\n",
       "      <td>PER</td>\n",
       "    </tr>\n",
       "  </tbody>\n",
       "</table>"
      ],
      "text/plain": [
       "Layer(name='gold_ner', attributes=('gold_nertag',), spans=SL[Span('Wäljapere koha', [{'gold_nertag': 'LOC'}]),\n",
       "Span('Juhan Kõerw', [{'gold_nertag': 'PER'}]),\n",
       "Span('Rabiwere mõisa', [{'gold_nertag': 'LOC'}]),\n",
       "Span('Kustas Wäljar', [{'gold_nertag': 'PER'}]),\n",
       "Span('Rabiwere mõisa', [{'gold_nertag': 'LOC'}]),\n",
       "Span('Kustas Wäljar', [{'gold_nertag': 'PER'}]),\n",
       "Span('Kustas Wäljar', [{'gold_nertag': 'PER'}]),\n",
       "Span('Wäljapere', [{'gold_nertag': 'LOC'}]),\n",
       "Span('Kustas Wäljar', [{'gold_nertag': 'PER'}]),\n",
       "Span('Kustas Wäljar', [{'gold_nertag': 'PER'}])])"
      ]
     },
     "execution_count": 8,
     "metadata": {},
     "output_type": "execute_result"
    }
   ],
   "source": [
    "text.gold_ner"
   ]
  }
 ],
 "metadata": {
  "kernelspec": {
   "display_name": "Python 3",
   "language": "python",
   "name": "python3"
  },
  "language_info": {
   "codemirror_mode": {
    "name": "ipython",
    "version": 3
   },
   "file_extension": ".py",
   "mimetype": "text/x-python",
   "name": "python",
   "nbconvert_exporter": "python",
   "pygments_lexer": "ipython3",
   "version": "3.7.9"
  }
 },
 "nbformat": 4,
 "nbformat_minor": 4
}
