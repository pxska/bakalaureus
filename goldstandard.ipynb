{
 "cells": [
  {
   "cell_type": "code",
   "execution_count": 84,
   "metadata": {},
   "outputs": [],
   "source": [
    "import os\n",
    "\n",
    "from estnltk import Text, Layer"
   ]
  },
  {
   "cell_type": "code",
   "execution_count": 85,
   "metadata": {},
   "outputs": [],
   "source": [
    "with open(\"vallakohus_esimene\\Harju_Hageri_Kohila_id20604_1883a.ann\", encoding=\"UTF8\") as annotated_file:\n",
    "    annotation = annotated_file.read()\n",
    "with open(\"vallakohus_esimene\\Harju_Hageri_Kohila_id20604_1883a.txt\", encoding=\"UTF8\") as txt:\n",
    "    textfile = txt.read()"
   ]
  },
  {
   "cell_type": "code",
   "execution_count": 86,
   "metadata": {},
   "outputs": [
    {
     "name": "stdout",
     "output_type": "stream",
     "text": [
      "T1\tIsik 34 42\tJ. Krais\n",
      "T2\tIsik 56 72\tJuhan Lesserberg\n",
      "T3\tIsik 76 86\tJuhan Asse\n",
      "T4\tIsik 146 158\tJ.Lesserberg\n",
      "T5\tIsik 190 200\tJuhan Asse\n",
      "T6\tIsik 231 241\tLesserberg\n",
      "T7\tIsik 357 373\tJuhan Lesserberg\n",
      "T8\tIsik 418 428\tJuhan Asse\n",
      "T9\tIsik 584 600\tJuhan Lesserberg\n",
      "T10\tIsik 740 750\tJuhan Asse\n",
      "\n"
     ]
    }
   ],
   "source": [
    "print(annotation)"
   ]
  },
  {
   "cell_type": "code",
   "execution_count": 87,
   "metadata": {},
   "outputs": [
    {
     "data": {
      "text/plain": [
       "'Astus kohtu ette Koolivöörmünder  J. Krais ja kaebas et Juhan Lesserberg ja Juhan Asse olla kolimaia ükse ees rielnud ja peale riiu lahutust olla J.Lesserberg hirmsaste sõimand ja vandund.\\nJuhan Asse sai ette kutsutud tunistas et Lesserberg olla teda lükanud selle peale olla nemad karvupidi kokku juhtunud ja teine teist hilma wiga tegemata maha pannud.\\nJuhan Lesserberg sai ette kutsutud ja tunistas et tema põlla Juhan Asse lükkanud aga sõimamest ja vandumest ei aiand tema tagasi vabandas ennast seega ütteldes tema olnud joobnud olnud.\\n          Kohus mõistis selle pärast et Juhan Lesserberg maksab 4 Rbl. trahwi et se riid neil kooli majas peetava palwe tunni aegus olnud ja ja sellelabi rahu rikumene sündind  nenda samma maksab Juhan Asse 1 Rbl. trahwi walla laeka selle riiu pärast.\\n\\n\\n'"
      ]
     },
     "execution_count": 87,
     "metadata": {},
     "output_type": "execute_result"
    }
   ],
   "source": [
    "# converting the text form .txt file into an EstNLTK Text object\n",
    "text = Text(textfile)\n",
    "text.text"
   ]
  },
  {
   "cell_type": "code",
   "execution_count": 88,
   "metadata": {},
   "outputs": [],
   "source": [
    "# creating a new layer to add to the Text object later on\n",
    "layer = Layer(name=\"gold_ner\", text_object=text, attributes=['gold_nertag'])"
   ]
  },
  {
   "cell_type": "code",
   "execution_count": 89,
   "metadata": {},
   "outputs": [],
   "source": [
    "# creating a dictionary to hold the annotation data, the dictionary looks as follows:\n",
    "# {\"TRIGGER\": ['NERTAG INDEX1 INDEX2', 'NAMEDENTITY'], ...}\n",
    "annotation_dictionary = {}\n",
    "\n",
    "splitted_annotation = annotation.split(\"\\n\")\n",
    "for row in splitted_annotation:\n",
    "    splitted_row = row.split(\"\\t\")\n",
    "    if (len(splitted_row) == 3):\n",
    "        trigger = splitted_row[0]\n",
    "        location = splitted_row[1]\n",
    "        entity = splitted_row[2]\n",
    "        annotation_dictionary[trigger] = [location, entity]\n",
    "    else:\n",
    "        continue"
   ]
  },
  {
   "cell_type": "code",
   "execution_count": 90,
   "metadata": {},
   "outputs": [],
   "source": [
    "# looping through every key and value in dictionary to add to the layer\n",
    "for key in annotation_dictionary:\n",
    "    value = annotation_dictionary.get(key)\n",
    "    ner, loc = value[0].split(\" \")[0], (value[0].split(\" \")[1], value[0].split(\" \")[2])\n",
    "    preceding_newlines = text.text[0:int(loc[0])].count(\"\\n\") #counting preceding newlines to deduct from the indexes (BRAT-problem)\n",
    "    location1 = int(loc[0]) - int(preceding_newlines)\n",
    "    location2 = int(loc[1]) - int(preceding_newlines)\n",
    "    if ner == \"Isik\":\n",
    "        layer.add_annotation((location1, location2), gold_nertag=\"PER\")\n",
    "    if ner == \"KO_koht\":\n",
    "        layer.add_annotation((location1, location2), gold_nertag=\"ORG\")\n",
    "    if ner == \"Koht\":\n",
    "        layer.add_annotation((location1, location2), gold_nertag=\"LOC\")\n",
    "text.add_layer(layer)"
   ]
  },
  {
   "cell_type": "code",
   "execution_count": 91,
   "metadata": {},
   "outputs": [
    {
     "data": {
      "text/html": [
       "<h4>Layer</h4>\n",
       "\n",
       "\n",
       "<table border=\"1\" class=\"dataframe\">\n",
       "  <thead>\n",
       "    <tr style=\"text-align: right;\">\n",
       "      <th>layer name</th>\n",
       "      <th>attributes</th>\n",
       "      <th>parent</th>\n",
       "      <th>enveloping</th>\n",
       "      <th>ambiguous</th>\n",
       "      <th>span count</th>\n",
       "    </tr>\n",
       "  </thead>\n",
       "  <tbody>\n",
       "    <tr>\n",
       "      <td>gold_ner</td>\n",
       "      <td>gold_nertag</td>\n",
       "      <td>None</td>\n",
       "      <td>None</td>\n",
       "      <td>False</td>\n",
       "      <td>10</td>\n",
       "    </tr>\n",
       "  </tbody>\n",
       "</table>\n",
       "<table border=\"1\" class=\"dataframe\">\n",
       "  <thead>\n",
       "    <tr style=\"text-align: right;\">\n",
       "      <th>text</th>\n",
       "      <th>gold_nertag</th>\n",
       "    </tr>\n",
       "  </thead>\n",
       "  <tbody>\n",
       "    <tr>\n",
       "      <td>J. Krais</td>\n",
       "      <td>PER</td>\n",
       "    </tr>\n",
       "    <tr>\n",
       "      <td>Juhan Lesserberg</td>\n",
       "      <td>PER</td>\n",
       "    </tr>\n",
       "    <tr>\n",
       "      <td>Juhan Asse</td>\n",
       "      <td>PER</td>\n",
       "    </tr>\n",
       "    <tr>\n",
       "      <td>J.Lesserberg</td>\n",
       "      <td>PER</td>\n",
       "    </tr>\n",
       "    <tr>\n",
       "      <td>Juhan Asse</td>\n",
       "      <td>PER</td>\n",
       "    </tr>\n",
       "    <tr>\n",
       "      <td>Lesserberg</td>\n",
       "      <td>PER</td>\n",
       "    </tr>\n",
       "    <tr>\n",
       "      <td>Juhan Lesserberg</td>\n",
       "      <td>PER</td>\n",
       "    </tr>\n",
       "    <tr>\n",
       "      <td>Juhan Asse</td>\n",
       "      <td>PER</td>\n",
       "    </tr>\n",
       "    <tr>\n",
       "      <td>Juhan Lesserberg</td>\n",
       "      <td>PER</td>\n",
       "    </tr>\n",
       "    <tr>\n",
       "      <td>Juhan Asse</td>\n",
       "      <td>PER</td>\n",
       "    </tr>\n",
       "  </tbody>\n",
       "</table>"
      ],
      "text/plain": [
       "Layer(name='gold_ner', attributes=('gold_nertag',), spans=SL[Span('J. Krais', [{'gold_nertag': 'PER'}]),\n",
       "Span('Juhan Lesserberg', [{'gold_nertag': 'PER'}]),\n",
       "Span('Juhan Asse', [{'gold_nertag': 'PER'}]),\n",
       "Span('J.Lesserberg', [{'gold_nertag': 'PER'}]),\n",
       "Span('Juhan Asse', [{'gold_nertag': 'PER'}]),\n",
       "Span('Lesserberg', [{'gold_nertag': 'PER'}]),\n",
       "Span('Juhan Lesserberg', [{'gold_nertag': 'PER'}]),\n",
       "Span('Juhan Asse', [{'gold_nertag': 'PER'}]),\n",
       "Span('Juhan Lesserberg', [{'gold_nertag': 'PER'}]),\n",
       "Span('Juhan Asse', [{'gold_nertag': 'PER'}])])"
      ]
     },
     "execution_count": 91,
     "metadata": {},
     "output_type": "execute_result"
    }
   ],
   "source": [
    "text.gold_ner"
   ]
  }
 ],
 "metadata": {
  "kernelspec": {
   "display_name": "Python 3",
   "language": "python",
   "name": "python3"
  },
  "language_info": {
   "codemirror_mode": {
    "name": "ipython",
    "version": 3
   },
   "file_extension": ".py",
   "mimetype": "text/x-python",
   "name": "python",
   "nbconvert_exporter": "python",
   "pygments_lexer": "ipython3",
   "version": "3.7.9"
  }
 },
 "nbformat": 4,
 "nbformat_minor": 4
}
