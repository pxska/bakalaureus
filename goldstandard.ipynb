{
 "cells": [
  {
   "cell_type": "code",
   "execution_count": 46,
   "metadata": {},
   "outputs": [],
   "source": [
    "import os\n",
    "import re\n",
    "\n",
    "from estnltk import EnvelopingBaseSpan\n",
    "from estnltk import Text, Layer, Annotation, EnvelopingSpan"
   ]
  },
  {
   "cell_type": "code",
   "execution_count": 47,
   "metadata": {},
   "outputs": [],
   "source": [
    "with open(\"vallakohus_esimene\\Harju_Hageri_Kohila_id20604_1883a.ann\", encoding=\"UTF8\") as annotated_file:\n",
    "    annotation = annotated_file.read()\n",
    "with open(\"vallakohus_esimene\\Harju_Hageri_Kohila_id20604_1883a.txt\", encoding=\"UTF8\") as txt:\n",
    "    textfile = txt.read()"
   ]
  },
  {
   "cell_type": "code",
   "execution_count": 48,
   "metadata": {},
   "outputs": [
    {
     "name": "stdout",
     "output_type": "stream",
     "text": [
      "T1\tIsik 34 42\tJ. Krais\n",
      "T2\tIsik 56 72\tJuhan Lesserberg\n",
      "T3\tIsik 76 86\tJuhan Asse\n",
      "T4\tIsik 146 158\tJ.Lesserberg\n",
      "T5\tIsik 190 200\tJuhan Asse\n",
      "T6\tIsik 231 241\tLesserberg\n",
      "T7\tIsik 357 373\tJuhan Lesserberg\n",
      "T8\tIsik 418 428\tJuhan Asse\n",
      "T9\tIsik 584 600\tJuhan Lesserberg\n",
      "T10\tIsik 740 750\tJuhan Asse\n",
      "\n"
     ]
    }
   ],
   "source": [
    "print(annotation)"
   ]
  },
  {
   "cell_type": "code",
   "execution_count": 49,
   "metadata": {},
   "outputs": [],
   "source": [
    "# converting the text form .txt file into an EstNLTK Text object and giving it the \"words\" layer\n",
    "text = Text(textfile)\n",
    "text = text.tag_layer(['words'])"
   ]
  },
  {
   "cell_type": "code",
   "execution_count": 50,
   "metadata": {},
   "outputs": [],
   "source": [
    "# creating new layers to add to the Text object later on\n",
    "gold_ner_layer = Layer(name=\"gold_ner\", text_object=text, attributes=['nertag'])\n",
    "gold_wordner_layer = Layer(name=\"gold_wordner\", text_object=text, attributes=['nertag'], parent=\"words\")\n"
   ]
  },
  {
   "cell_type": "code",
   "execution_count": 51,
   "metadata": {},
   "outputs": [
    {
     "name": "stdout",
     "output_type": "stream",
     "text": [
      "Rea '' lugemisel tekkis probleem.\n"
     ]
    }
   ],
   "source": [
    "# creating a dictionary to hold the annotation data, the dictionary looks as follows:\n",
    "# {\"TRIGGER\": ['NERTAG INDEX1 INDEX2', 'NAMED-ENTITY'], ...}\n",
    "annotation_dictionary = {}\n",
    "\n",
    "splitted_annotation = annotation.split(\"\\n\")\n",
    "for row in splitted_annotation:\n",
    "    splitted_row = row.split(\"\\t\")\n",
    "    if (len(splitted_row) == 3):\n",
    "        trigger = splitted_row[0]\n",
    "        location = splitted_row[1]\n",
    "        entity = splitted_row[2]\n",
    "        annotation_dictionary[trigger] = [location, entity]\n",
    "    else:\n",
    "        print(\"Rea '\" + row + \"' lugemisel tekkis probleem.\")"
   ]
  },
  {
   "cell_type": "code",
   "execution_count": 52,
   "metadata": {
    "scrolled": false
   },
   "outputs": [
    {
     "name": "stdout",
     "output_type": "stream",
     "text": [
      "T1 ['Isik 34 42', 'J. Krais']\n",
      "T2 ['Isik 56 72', 'Juhan Lesserberg']\n",
      "T3 ['Isik 76 86', 'Juhan Asse']\n",
      "T4 ['Isik 146 158', 'J.Lesserberg']\n",
      "T5 ['Isik 190 200', 'Juhan Asse']\n",
      "T6 ['Isik 231 241', 'Lesserberg']\n",
      "T7 ['Isik 357 373', 'Juhan Lesserberg']\n",
      "T8 ['Isik 418 428', 'Juhan Asse']\n",
      "T9 ['Isik 584 600', 'Juhan Lesserberg']\n",
      "T10 ['Isik 740 750', 'Juhan Asse']\n"
     ]
    }
   ],
   "source": [
    "# looping through every key and value in dictionary to add to the layer\n",
    "for key in annotation_dictionary:    \n",
    "    value = annotation_dictionary.get(key)\n",
    "    print(key, value)"
   ]
  },
  {
   "cell_type": "code",
   "execution_count": 53,
   "metadata": {},
   "outputs": [
    {
     "name": "stdout",
     "output_type": "stream",
     "text": [
      "ISIK: EnvelopingSpan(['J. Krais'], [{'nertag': 'PER'}]) on lisatud.\n",
      "ISIK: EnvelopingSpan(['Juhan', 'Lesserberg'], [{'nertag': 'PER'}]) on lisatud.\n",
      "ISIK: EnvelopingSpan(['Juhan', 'Asse'], [{'nertag': 'PER'}]) on lisatud.\n",
      "ISIK: EnvelopingSpan(['J.Lesserberg'], [{'nertag': 'PER'}]) on lisatud.\n",
      "ISIK: EnvelopingSpan(['Juhan', 'Asse'], [{'nertag': 'PER'}]) on lisatud.\n",
      "ISIK: EnvelopingSpan(['Lesserberg'], [{'nertag': 'PER'}]) on lisatud.\n",
      "ISIK: EnvelopingSpan(['Juhan', 'Lesserberg'], [{'nertag': 'PER'}]) on lisatud.\n",
      "ISIK: EnvelopingSpan(['Juhan', 'Asse'], [{'nertag': 'PER'}]) on lisatud.\n",
      "ISIK: EnvelopingSpan(['Juhan', 'Lesserberg'], [{'nertag': 'PER'}]) on lisatud.\n",
      "ISIK: EnvelopingSpan(['Juhan', 'Asse'], [{'nertag': 'PER'}]) on lisatud.\n"
     ]
    }
   ],
   "source": [
    "dictionary_for_wordner = {} #the dictionary for wordner\n",
    "T = 1 #just a trigger number\n",
    "\n",
    "for key in annotation_dictionary:\n",
    "    name = []\n",
    "    value = annotation_dictionary.get(key)\n",
    "    ner, loc = value[0].split(\" \")[0], (value[0].split(\" \")[1], value[0].split(\" \")[2])\n",
    "    preceding_newlines = text.text[0:int(loc[0])].count(\"\\n\") #counting preceding newlines to deduct from the indexes\n",
    "    \n",
    "    startIndex = int(loc[0]) - int(preceding_newlines) #starting index form the .ann file\n",
    "    endIndex = int(loc[1]) - int(preceding_newlines) #ending index from the .ann file\n",
    "    \n",
    "    for i in range(0, len(text.words) - 1): #looping through every word in text.words\n",
    "        if text.words[i].start == startIndex: #if the startindex is same in the .ann file and in the loop, add an new span \n",
    "            if text.words[i].end == endIndex:\n",
    "                base_span = EnvelopingBaseSpan([text.words[i].base_span])\n",
    "                name = [text.words[i]] #adding the name element(s) to a list to use in the wordner dictionary later on\n",
    "            else:\n",
    "                if text.words[i+1].end == endIndex: #if the next word's endindex is the same as the endindex in the .ann file, add a new span\n",
    "                    name = [text.words[i], text.words[i+1]] \n",
    "                    base_span = EnvelopingBaseSpan([s.base_span for s in name])\n",
    "                else:\n",
    "                    for j in range(len(value[0].split(\" \") - 1)):\n",
    "                        name.append(text.words[i+j])\n",
    "                base_span = EnvelopingBaseSpan([s.base_span for s in name])\n",
    "                \n",
    "            new_span = EnvelopingSpan(base_span, layer=gold_ner_layer)\n",
    "            \n",
    "            if ner == \"Isik\":\n",
    "                new_span.add_annotation(Annotation(new_span, nertag=\"PER\"))\n",
    "                print(f\"ISIK: {new_span} on lisatud.\")\n",
    "                for k in range(0, len(name)):\n",
    "                    if k == 0:\n",
    "                        dictionary_for_wordner[\"B-PER\" + \" \" + str(T)] = i\n",
    "                        continue\n",
    "                    else:\n",
    "                        dictionary_for_wordner[\"I-PER\" + \" \" + str(T)] = i+k\n",
    "            if ner == \"KO_koht\" or ner == \"KO_org\":\n",
    "                new_span.add_annotation(Annotation(new_span, nertag=\"LOC\"))\n",
    "                new_span.add_annotation(Annotation(new_span, nertag=\"ORG\"))\n",
    "                print(f\"LOC_ORG: {new_span} on lisatud.\")\n",
    "                for k in range(0, len(name)):\n",
    "                    if k == 0:\n",
    "                        dictionary_for_wordner[\"B-LOC\" + \" \" + str(T)] = i\n",
    "                        dictionary_for_wordner[\"B-ORG\" + \" \" + str(T)] = i\n",
    "                        continue\n",
    "                        \n",
    "                    else:\n",
    "                        dictionary_for_wordner[\"I-LOC\" + \" \" + str(T)] = i+k\n",
    "                        dictionary_for_wordner[\"I-ORG\" + \" \" + str(T)] = i+k\n",
    "            if ner == \"Koht\":\n",
    "                new_span.add_annotation(Annotation(new_span, nertag=\"LOC\"))\n",
    "                print(f\"LOC: {new_span} on lisatud.\")\n",
    "                for k in range(0, len(name)):\n",
    "                    if k == 0:\n",
    "                        dictionary_for_wordner[\"B-LOC\" + \" \" + str(T)] = i\n",
    "                        continue\n",
    "                    else:\n",
    "                        dictionary_for_wordner[\"I-LOC\" + \" \" + str(T)] = i+k\n",
    "            if ner == \"Org\":\n",
    "                new_span.add_annotation(Annotation(new_span, nertag=\"ORG\"))\n",
    "                print(f\"ORG: {new_span} on lisatud.\")\n",
    "                for k in range(0, len(name)):\n",
    "                    if k == 0:\n",
    "                        dictionary_for_wordner[\"B-ORG\" + \" \" + str(T)] = i\n",
    "                        continue\n",
    "                    else:\n",
    "                        dictionary_for_wordner[\"I-ORG\" + \" \" + str(T)] = i+k\n",
    "            if ner == \"Muu\" or ner == \"Teadmata\" or ner == \"ese\":\n",
    "                new_span.add_annotation(Annotation(new_span, nertag=\"MISC\"))\n",
    "                print(f\"MISC: {new_span} on lisatud.\")\n",
    "                for k in range(0, len(name)):\n",
    "                    if k == 0:\n",
    "                        dictionary_for_wordner[\"B-MISC\" + \" \" + str(T)] = i\n",
    "                        continue\n",
    "                    else:\n",
    "                        dictionary_for_wordner[\"I-MISC\" + \" \" + str(T)] = i+k\n",
    "            gold_ner_layer.add_span(new_span)\n",
    "            T += 1\n",
    "            break\n",
    "text.add_layer(gold_ner_layer)\n",
    "#text.add_layer(gold_wordner_layer)"
   ]
  },
  {
   "cell_type": "code",
   "execution_count": 54,
   "metadata": {},
   "outputs": [],
   "source": [
    "for key in dictionary_for_wordner:\n",
    "    val = dictionary_for_wordner.get(key)\n",
    "    key_nertag = key.split(\" \")[0]\n",
    "    for i in range(0, len(text.words) - 1):\n",
    "        if i == val:\n",
    "            new_span = Span(base_span=text.words[i].base_span, layer=gold_wordner_layer)\n",
    "            new_span.add_annotation(Annotation(new_span, nertag=str(key_nertag)))\n",
    "            gold_wordner_layer.add_span(new_span)\n",
    "            print(\"siin.\")\n",
    "            break\n",
    "        else:\n",
    "            new_span_o = Span(base_span=text.words[i].base_span, layer=gold_wordner_layer)\n",
    "            new_span_o.add_annotation(Annotation(new_span_o, nertag=\"O\"))\n",
    "            print(\"siin.\")\n",
    "            gold_wordner_layer.add_span(new_span_o)\n",
    "            \n",
    "text.add_layer(gold_wordner_layer)"
   ]
  },
  {
   "cell_type": "code",
   "execution_count": 55,
   "metadata": {},
   "outputs": [
    {
     "data": {
      "text/html": [
       "<h4>Layer</h4>\n",
       "\n",
       "\n",
       "<table border=\"1\" class=\"dataframe\">\n",
       "  <thead>\n",
       "    <tr style=\"text-align: right;\">\n",
       "      <th>layer name</th>\n",
       "      <th>attributes</th>\n",
       "      <th>parent</th>\n",
       "      <th>enveloping</th>\n",
       "      <th>ambiguous</th>\n",
       "      <th>span count</th>\n",
       "    </tr>\n",
       "  </thead>\n",
       "  <tbody>\n",
       "    <tr>\n",
       "      <td>gold_ner</td>\n",
       "      <td>nertag</td>\n",
       "      <td>None</td>\n",
       "      <td>None</td>\n",
       "      <td>False</td>\n",
       "      <td>10</td>\n",
       "    </tr>\n",
       "  </tbody>\n",
       "</table>\n",
       "<table border=\"1\" class=\"dataframe\">\n",
       "  <thead>\n",
       "    <tr style=\"text-align: right;\">\n",
       "      <th>text</th>\n",
       "      <th>nertag</th>\n",
       "    </tr>\n",
       "  </thead>\n",
       "  <tbody>\n",
       "    <tr>\n",
       "      <td>['J. Krais']</td>\n",
       "      <td>PER</td>\n",
       "    </tr>\n",
       "    <tr>\n",
       "      <td>['Juhan', 'Lesserberg']</td>\n",
       "      <td>PER</td>\n",
       "    </tr>\n",
       "    <tr>\n",
       "      <td>['Juhan', 'Asse']</td>\n",
       "      <td>PER</td>\n",
       "    </tr>\n",
       "    <tr>\n",
       "      <td>['J.Lesserberg']</td>\n",
       "      <td>PER</td>\n",
       "    </tr>\n",
       "    <tr>\n",
       "      <td>['Juhan', 'Asse']</td>\n",
       "      <td>PER</td>\n",
       "    </tr>\n",
       "    <tr>\n",
       "      <td>['Lesserberg']</td>\n",
       "      <td>PER</td>\n",
       "    </tr>\n",
       "    <tr>\n",
       "      <td>['Juhan', 'Lesserberg']</td>\n",
       "      <td>PER</td>\n",
       "    </tr>\n",
       "    <tr>\n",
       "      <td>['Juhan', 'Asse']</td>\n",
       "      <td>PER</td>\n",
       "    </tr>\n",
       "    <tr>\n",
       "      <td>['Juhan', 'Lesserberg']</td>\n",
       "      <td>PER</td>\n",
       "    </tr>\n",
       "    <tr>\n",
       "      <td>['Juhan', 'Asse']</td>\n",
       "      <td>PER</td>\n",
       "    </tr>\n",
       "  </tbody>\n",
       "</table>"
      ],
      "text/plain": [
       "Layer(name='gold_ner', attributes=('nertag',), spans=SL[EnvelopingSpan(['J. Krais'], [{'nertag': 'PER'}]),\n",
       "EnvelopingSpan(['Juhan', 'Lesserberg'], [{'nertag': 'PER'}]),\n",
       "EnvelopingSpan(['Juhan', 'Asse'], [{'nertag': 'PER'}]),\n",
       "EnvelopingSpan(['J.Lesserberg'], [{'nertag': 'PER'}]),\n",
       "EnvelopingSpan(['Juhan', 'Asse'], [{'nertag': 'PER'}]),\n",
       "EnvelopingSpan(['Lesserberg'], [{'nertag': 'PER'}]),\n",
       "EnvelopingSpan(['Juhan', 'Lesserberg'], [{'nertag': 'PER'}]),\n",
       "EnvelopingSpan(['Juhan', 'Asse'], [{'nertag': 'PER'}]),\n",
       "EnvelopingSpan(['Juhan', 'Lesserberg'], [{'nertag': 'PER'}]),\n",
       "EnvelopingSpan(['Juhan', 'Asse'], [{'nertag': 'PER'}])])"
      ]
     },
     "execution_count": 55,
     "metadata": {},
     "output_type": "execute_result"
    }
   ],
   "source": [
    "text.gold_ner"
   ]
  },
  {
   "cell_type": "code",
   "execution_count": 56,
   "metadata": {},
   "outputs": [
    {
     "data": {
      "text/html": [
       "<h4>Layer</h4>\n",
       "\n",
       "\n",
       "<table border=\"1\" class=\"dataframe\">\n",
       "  <thead>\n",
       "    <tr style=\"text-align: right;\">\n",
       "      <th>layer name</th>\n",
       "      <th>attributes</th>\n",
       "      <th>parent</th>\n",
       "      <th>enveloping</th>\n",
       "      <th>ambiguous</th>\n",
       "      <th>span count</th>\n",
       "    </tr>\n",
       "  </thead>\n",
       "  <tbody>\n",
       "    <tr>\n",
       "      <td>gold_wordner</td>\n",
       "      <td>nertag</td>\n",
       "      <td>words</td>\n",
       "      <td>None</td>\n",
       "      <td>False</td>\n",
       "      <td>0</td>\n",
       "    </tr>\n",
       "  </tbody>\n",
       "</table>\n",
       "<table border=\"1\" class=\"dataframe\">\n",
       "  <thead>\n",
       "    <tr style=\"text-align: right;\">\n",
       "      <th>text</th>\n",
       "      <th>nertag</th>\n",
       "    </tr>\n",
       "  </thead>\n",
       "  <tbody>\n",
       "  </tbody>\n",
       "</table>"
      ],
      "text/plain": [
       "Layer(name='gold_wordner', attributes=('nertag',), spans=SL[])"
      ]
     },
     "execution_count": 56,
     "metadata": {},
     "output_type": "execute_result"
    }
   ],
   "source": [
    "text['gold_wordner']"
   ]
  }
 ],
 "metadata": {
  "kernelspec": {
   "display_name": "Python 3",
   "language": "python",
   "name": "python3"
  },
  "language_info": {
   "codemirror_mode": {
    "name": "ipython",
    "version": 3
   },
   "file_extension": ".py",
   "mimetype": "text/x-python",
   "name": "python",
   "nbconvert_exporter": "python",
   "pygments_lexer": "ipython3",
   "version": "3.7.9"
  }
 },
 "nbformat": 4,
 "nbformat_minor": 4
}
