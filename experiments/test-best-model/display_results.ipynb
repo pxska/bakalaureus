{
 "cells": [
  {
   "cell_type": "code",
   "execution_count": 1,
   "metadata": {},
   "outputs": [],
   "source": [
    "import os\n",
    "import json\n",
    "import pandas as pd\n",
    "import numpy as np\n",
    "from modules.extract_results import display_results_by_subdistribution, display_results_by_named_entity, \\\n",
    "                                    display_confusion_matrix, extract_results_to_txt_file"
   ]
  },
  {
   "cell_type": "code",
   "execution_count": 2,
   "metadata": {},
   "outputs": [],
   "source": [
    "def get_results_from_directory(model_directory):\n",
    "    with open(os.path.join('models', model_directory, 'results.txt')) as file:\n",
    "        results_json = json.loads(file.read())\n",
    "        return display_results_by_subdistribution(results_json)[\"Total\"], display_results_by_named_entity(results_json)[\"Total\"]"
   ]
  },
  {
   "cell_type": "code",
   "execution_count": 3,
   "metadata": {
    "scrolled": true
   },
   "outputs": [],
   "source": [
    "totals_by_subdistribution = {}\n",
    "totals_by_named_entity = {}\n",
    "\n",
    "model_directories = [\n",
    "    'model_gaz_loc',\n",
    "    'model_gaz_loc_variants',\n",
    "    'model_gaz_loc_k2sitsi',\n",
    "    'model_gaz_loc_variants_k2sitsi'\n",
    "]\n",
    "\n",
    "for model_directory in model_directories:\n",
    "    by_subdistribution, by_named_entity = get_results_from_directory(model_directory)\n",
    "    totals_by_subdistribution[model_directory] = by_subdistribution\n",
    "    totals_by_named_entity[model_directory] = by_named_entity"
   ]
  },
  {
   "cell_type": "markdown",
   "metadata": {},
   "source": [
    "# Total values by model:"
   ]
  },
  {
   "cell_type": "code",
   "execution_count": 4,
   "metadata": {
    "scrolled": true
   },
   "outputs": [
    {
     "data": {
      "text/html": [
       "<div>\n",
       "<style scoped>\n",
       "    .dataframe tbody tr th:only-of-type {\n",
       "        vertical-align: middle;\n",
       "    }\n",
       "\n",
       "    .dataframe tbody tr th {\n",
       "        vertical-align: top;\n",
       "    }\n",
       "\n",
       "    .dataframe thead th {\n",
       "        text-align: right;\n",
       "    }\n",
       "</style>\n",
       "<table border=\"1\" class=\"dataframe\">\n",
       "  <thead>\n",
       "    <tr style=\"text-align: right;\">\n",
       "      <th></th>\n",
       "      <th>Precision</th>\n",
       "      <th>Recall</th>\n",
       "      <th>F1-score</th>\n",
       "    </tr>\n",
       "  </thead>\n",
       "  <tbody>\n",
       "    <tr>\n",
       "      <th>model_gaz_loc</th>\n",
       "      <td>0.849723</td>\n",
       "      <td>0.787655</td>\n",
       "      <td>0.817513</td>\n",
       "    </tr>\n",
       "    <tr>\n",
       "      <th>model_gaz_loc_variants</th>\n",
       "      <td>0.853579</td>\n",
       "      <td>0.790069</td>\n",
       "      <td>0.820597</td>\n",
       "    </tr>\n",
       "    <tr>\n",
       "      <th>model_gaz_loc_k2sitsi</th>\n",
       "      <td>0.039756</td>\n",
       "      <td>0.036372</td>\n",
       "      <td>0.037989</td>\n",
       "    </tr>\n",
       "    <tr>\n",
       "      <th>model_gaz_loc_variants_k2sitsi</th>\n",
       "      <td>0.039887</td>\n",
       "      <td>0.036372</td>\n",
       "      <td>0.038049</td>\n",
       "    </tr>\n",
       "  </tbody>\n",
       "</table>\n",
       "</div>"
      ],
      "text/plain": [
       "                                Precision    Recall  F1-score\n",
       "model_gaz_loc                    0.849723  0.787655  0.817513\n",
       "model_gaz_loc_variants           0.853579  0.790069  0.820597\n",
       "model_gaz_loc_k2sitsi            0.039756  0.036372  0.037989\n",
       "model_gaz_loc_variants_k2sitsi   0.039887  0.036372  0.038049"
      ]
     },
     "metadata": {},
     "output_type": "display_data"
    }
   ],
   "source": [
    "display(pd.DataFrame(totals_by_subdistribution, index=[\"Precision\", \"Recall\", \"F1-score\"]).T)"
   ]
  },
  {
   "cell_type": "markdown",
   "metadata": {},
   "source": [
    "# Total values by named entity:"
   ]
  },
  {
   "cell_type": "code",
   "execution_count": 5,
   "metadata": {
    "scrolled": true
   },
   "outputs": [
    {
     "data": {
      "text/html": [
       "<div>\n",
       "<style scoped>\n",
       "    .dataframe tbody tr th:only-of-type {\n",
       "        vertical-align: middle;\n",
       "    }\n",
       "\n",
       "    .dataframe tbody tr th {\n",
       "        vertical-align: top;\n",
       "    }\n",
       "\n",
       "    .dataframe thead th {\n",
       "        text-align: right;\n",
       "    }\n",
       "</style>\n",
       "<table border=\"1\" class=\"dataframe\">\n",
       "  <thead>\n",
       "    <tr style=\"text-align: right;\">\n",
       "      <th></th>\n",
       "      <th>ORG_precision</th>\n",
       "      <th>ORG_recall</th>\n",
       "      <th>ORG_f1score</th>\n",
       "      <th>PER_precision</th>\n",
       "      <th>PER_recall</th>\n",
       "      <th>PER_f1score</th>\n",
       "      <th>MISC_precision</th>\n",
       "      <th>MISC_recall</th>\n",
       "      <th>MISC_f1score</th>\n",
       "      <th>LOC_precision</th>\n",
       "      <th>LOC_recall</th>\n",
       "      <th>LOC_f1score</th>\n",
       "      <th>LOC_ORG_precision</th>\n",
       "      <th>LOC_ORG_recall</th>\n",
       "      <th>LOC_ORG_f1score</th>\n",
       "    </tr>\n",
       "  </thead>\n",
       "  <tbody>\n",
       "    <tr>\n",
       "      <th>model_gaz_loc</th>\n",
       "      <td>0.090323</td>\n",
       "      <td>0.084848</td>\n",
       "      <td>0.087500</td>\n",
       "      <td>0.180827</td>\n",
       "      <td>0.174625</td>\n",
       "      <td>0.177672</td>\n",
       "      <td>0.052632</td>\n",
       "      <td>0.035714</td>\n",
       "      <td>0.042553</td>\n",
       "      <td>0.070588</td>\n",
       "      <td>0.043454</td>\n",
       "      <td>0.053793</td>\n",
       "      <td>0.130713</td>\n",
       "      <td>0.107288</td>\n",
       "      <td>0.117848</td>\n",
       "    </tr>\n",
       "    <tr>\n",
       "      <th>model_gaz_loc_variants</th>\n",
       "      <td>0.088525</td>\n",
       "      <td>0.081818</td>\n",
       "      <td>0.085039</td>\n",
       "      <td>0.181366</td>\n",
       "      <td>0.175112</td>\n",
       "      <td>0.178185</td>\n",
       "      <td>0.058824</td>\n",
       "      <td>0.035714</td>\n",
       "      <td>0.044444</td>\n",
       "      <td>0.077064</td>\n",
       "      <td>0.046797</td>\n",
       "      <td>0.058232</td>\n",
       "      <td>0.130511</td>\n",
       "      <td>0.106810</td>\n",
       "      <td>0.117477</td>\n",
       "    </tr>\n",
       "    <tr>\n",
       "      <th>model_gaz_loc_k2sitsi</th>\n",
       "      <td>0.006349</td>\n",
       "      <td>0.006061</td>\n",
       "      <td>0.006202</td>\n",
       "      <td>0.008407</td>\n",
       "      <td>0.007984</td>\n",
       "      <td>0.008190</td>\n",
       "      <td>0.000000</td>\n",
       "      <td>0.000000</td>\n",
       "      <td>0.000000</td>\n",
       "      <td>0.004950</td>\n",
       "      <td>0.002786</td>\n",
       "      <td>0.003565</td>\n",
       "      <td>0.005891</td>\n",
       "      <td>0.005018</td>\n",
       "      <td>0.005419</td>\n",
       "    </tr>\n",
       "    <tr>\n",
       "      <th>model_gaz_loc_variants_k2sitsi</th>\n",
       "      <td>0.006557</td>\n",
       "      <td>0.006061</td>\n",
       "      <td>0.006299</td>\n",
       "      <td>0.008431</td>\n",
       "      <td>0.007984</td>\n",
       "      <td>0.008201</td>\n",
       "      <td>0.000000</td>\n",
       "      <td>0.000000</td>\n",
       "      <td>0.000000</td>\n",
       "      <td>0.004950</td>\n",
       "      <td>0.002786</td>\n",
       "      <td>0.003565</td>\n",
       "      <td>0.005915</td>\n",
       "      <td>0.005018</td>\n",
       "      <td>0.005430</td>\n",
       "    </tr>\n",
       "  </tbody>\n",
       "</table>\n",
       "</div>"
      ],
      "text/plain": [
       "                                ORG_precision  ORG_recall  ORG_f1score  \\\n",
       "model_gaz_loc                        0.090323    0.084848     0.087500   \n",
       "model_gaz_loc_variants               0.088525    0.081818     0.085039   \n",
       "model_gaz_loc_k2sitsi                0.006349    0.006061     0.006202   \n",
       "model_gaz_loc_variants_k2sitsi       0.006557    0.006061     0.006299   \n",
       "\n",
       "                                PER_precision  PER_recall  PER_f1score  \\\n",
       "model_gaz_loc                        0.180827    0.174625     0.177672   \n",
       "model_gaz_loc_variants               0.181366    0.175112     0.178185   \n",
       "model_gaz_loc_k2sitsi                0.008407    0.007984     0.008190   \n",
       "model_gaz_loc_variants_k2sitsi       0.008431    0.007984     0.008201   \n",
       "\n",
       "                                MISC_precision  MISC_recall  MISC_f1score  \\\n",
       "model_gaz_loc                         0.052632     0.035714      0.042553   \n",
       "model_gaz_loc_variants                0.058824     0.035714      0.044444   \n",
       "model_gaz_loc_k2sitsi                 0.000000     0.000000      0.000000   \n",
       "model_gaz_loc_variants_k2sitsi        0.000000     0.000000      0.000000   \n",
       "\n",
       "                                LOC_precision  LOC_recall  LOC_f1score  \\\n",
       "model_gaz_loc                        0.070588    0.043454     0.053793   \n",
       "model_gaz_loc_variants               0.077064    0.046797     0.058232   \n",
       "model_gaz_loc_k2sitsi                0.004950    0.002786     0.003565   \n",
       "model_gaz_loc_variants_k2sitsi       0.004950    0.002786     0.003565   \n",
       "\n",
       "                                LOC_ORG_precision  LOC_ORG_recall  \\\n",
       "model_gaz_loc                            0.130713        0.107288   \n",
       "model_gaz_loc_variants                   0.130511        0.106810   \n",
       "model_gaz_loc_k2sitsi                    0.005891        0.005018   \n",
       "model_gaz_loc_variants_k2sitsi           0.005915        0.005018   \n",
       "\n",
       "                                LOC_ORG_f1score  \n",
       "model_gaz_loc                          0.117848  \n",
       "model_gaz_loc_variants                 0.117477  \n",
       "model_gaz_loc_k2sitsi                  0.005419  \n",
       "model_gaz_loc_variants_k2sitsi         0.005430  "
      ]
     },
     "metadata": {},
     "output_type": "display_data"
    }
   ],
   "source": [
    "display(pd.DataFrame(totals_by_named_entity).T)"
   ]
  },
  {
   "cell_type": "code",
   "execution_count": 6,
   "metadata": {},
   "outputs": [],
   "source": [
    "files = []\n",
    "for file in os.listdir(os.path.join('test', 'flattened_json_files')):\n",
    "    if file.endswith('.json'):\n",
    "        files.append(file)"
   ]
  },
  {
   "cell_type": "code",
   "execution_count": 14,
   "metadata": {},
   "outputs": [
    {
     "name": "stdout",
     "output_type": "stream",
     "text": [
      "model_gaz_loc\n",
      "Predicted  LOC  LOC_ORG  ORG  PER\n",
      "Actual                           \n",
      "LOC          5        1    0    2\n",
      "LOC_ORG      0       23    0    3\n",
      "ORG          0        0    2    0\n",
      "PER          0        3    0  211\n",
      "\n",
      "\n",
      "model_gaz_loc_variants\n",
      "Predicted  LOC  LOC_ORG  ORG  PER\n",
      "Actual                           \n",
      "LOC          5        1    0    2\n",
      "LOC_ORG      0       22    0    3\n",
      "ORG          0        0    2    0\n",
      "PER          0        3    0  212\n",
      "\n",
      "\n",
      "model_gaz_loc_k2sitsi\n",
      "Predicted  LOC  LOC_ORG  ORG  PER\n",
      "Actual                           \n",
      "LOC          5        1    0    2\n",
      "LOC_ORG      0       21    0    3\n",
      "ORG          0        0    2    0\n",
      "PER          0        2    0  213\n",
      "\n",
      "\n",
      "model_gaz_loc_variants_k2sitsi\n",
      "Predicted  LOC  LOC_ORG  ORG  PER\n",
      "Actual                           \n",
      "LOC          5        1    0    2\n",
      "LOC_ORG      0       21    0    3\n",
      "ORG          0        0    2    0\n",
      "PER          0        3    0  213\n",
      "\n",
      "\n"
     ]
    }
   ],
   "source": [
    "for model in model_directories:\n",
    "    y_true, y_pred = display_confusion_matrix(model, files)\n",
    "    print(model)\n",
    "    print(pd.crosstab(y_true, y_pred))\n",
    "    print('\\n')"
   ]
  }
 ],
 "metadata": {
  "kernelspec": {
   "display_name": "Python 3",
   "language": "python",
   "name": "python3"
  },
  "language_info": {
   "codemirror_mode": {
    "name": "ipython",
    "version": 3
   },
   "file_extension": ".py",
   "mimetype": "text/x-python",
   "name": "python",
   "nbconvert_exporter": "python",
   "pygments_lexer": "ipython3",
   "version": "3.7.9"
  }
 },
 "nbformat": 4,
 "nbformat_minor": 4
}
