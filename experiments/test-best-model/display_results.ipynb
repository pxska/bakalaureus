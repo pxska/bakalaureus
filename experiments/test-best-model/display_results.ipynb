{
 "cells": [
  {
   "cell_type": "code",
   "execution_count": 1,
   "metadata": {},
   "outputs": [],
   "source": [
    "import os\n",
    "import json\n",
    "import pandas as pd\n",
    "import numpy as np\n",
    "from modules.results_extraction import results_by_subdistribution, results_by_named_entity, \\\n",
    "                                    confusion_matrix, extract_results"
   ]
  },
  {
   "cell_type": "code",
   "execution_count": 2,
   "metadata": {},
   "outputs": [],
   "source": [
    "def get_results_from_directory(model_directory):\n",
    "    with open(os.path.join('models', model_directory, 'results.txt')) as file:\n",
    "        results_json = json.loads(file.read())\n",
    "        return results_by_subdistribution(results_json), results_by_named_entity(results_json)"
   ]
  },
  {
   "cell_type": "code",
   "execution_count": 3,
   "metadata": {
    "scrolled": true
   },
   "outputs": [],
   "source": [
    "totals_by_subdistribution = {}\n",
    "totals_by_named_entity = {}\n",
    "\n",
    "model_directories = [\n",
    "    'model_gaz_loc',\n",
    "    'model_gaz_loc_variants',\n",
    "    'model_gaz_loc_k2sitsi',\n",
    "    'model_gaz_loc_variants_k2sitsi'\n",
    "]\n",
    "\n",
    "for model_directory in model_directories:\n",
    "    by_subdistribution, by_named_entity = get_results_from_directory(model_directory)\n",
    "    totals_by_subdistribution[model_directory] = by_subdistribution['Total']\n",
    "    totals_by_named_entity[model_directory] = by_named_entity['results']"
   ]
  },
  {
   "cell_type": "markdown",
   "metadata": {},
   "source": [
    "# Total values by model:"
   ]
  },
  {
   "cell_type": "code",
   "execution_count": 4,
   "metadata": {
    "scrolled": true
   },
   "outputs": [
    {
     "data": {
      "text/html": [
       "<div>\n",
       "<style scoped>\n",
       "    .dataframe tbody tr th:only-of-type {\n",
       "        vertical-align: middle;\n",
       "    }\n",
       "\n",
       "    .dataframe tbody tr th {\n",
       "        vertical-align: top;\n",
       "    }\n",
       "\n",
       "    .dataframe thead th {\n",
       "        text-align: right;\n",
       "    }\n",
       "</style>\n",
       "<table border=\"1\" class=\"dataframe\">\n",
       "  <thead>\n",
       "    <tr style=\"text-align: right;\">\n",
       "      <th></th>\n",
       "      <th>Precision</th>\n",
       "      <th>Recall</th>\n",
       "      <th>F1-score</th>\n",
       "    </tr>\n",
       "  </thead>\n",
       "  <tbody>\n",
       "    <tr>\n",
       "      <th>model_gaz_loc</th>\n",
       "      <td>0.847546</td>\n",
       "      <td>0.784485</td>\n",
       "      <td>0.814797</td>\n",
       "    </tr>\n",
       "    <tr>\n",
       "      <th>model_gaz_loc_variants</th>\n",
       "      <td>0.853579</td>\n",
       "      <td>0.790069</td>\n",
       "      <td>0.820597</td>\n",
       "    </tr>\n",
       "    <tr>\n",
       "      <th>model_gaz_loc_k2sitsi</th>\n",
       "      <td>0.039756</td>\n",
       "      <td>0.036372</td>\n",
       "      <td>0.037989</td>\n",
       "    </tr>\n",
       "    <tr>\n",
       "      <th>model_gaz_loc_variants_k2sitsi</th>\n",
       "      <td>0.039887</td>\n",
       "      <td>0.036372</td>\n",
       "      <td>0.038049</td>\n",
       "    </tr>\n",
       "  </tbody>\n",
       "</table>\n",
       "</div>"
      ],
      "text/plain": [
       "                                Precision    Recall  F1-score\n",
       "model_gaz_loc                    0.847546  0.784485  0.814797\n",
       "model_gaz_loc_variants           0.853579  0.790069  0.820597\n",
       "model_gaz_loc_k2sitsi            0.039756  0.036372  0.037989\n",
       "model_gaz_loc_variants_k2sitsi   0.039887  0.036372  0.038049"
      ]
     },
     "metadata": {},
     "output_type": "display_data"
    }
   ],
   "source": [
    "display(pd.DataFrame(totals_by_subdistribution, index=[\"Precision\", \"Recall\", \"F1-score\"]).T)"
   ]
  },
  {
   "cell_type": "markdown",
   "metadata": {},
   "source": [
    "<code>_k2sitsi</code> mudelite tulemused on madalad, sest mudelit kontrollides lähevad seal sõnestuse tõttu indeksid paigast ära."
   ]
  },
  {
   "cell_type": "markdown",
   "metadata": {},
   "source": [
    "# Total values by named entity:"
   ]
  },
  {
   "cell_type": "code",
   "execution_count": 5,
   "metadata": {
    "scrolled": true
   },
   "outputs": [
    {
     "data": {
      "text/html": [
       "<div>\n",
       "<style scoped>\n",
       "    .dataframe tbody tr th:only-of-type {\n",
       "        vertical-align: middle;\n",
       "    }\n",
       "\n",
       "    .dataframe tbody tr th {\n",
       "        vertical-align: top;\n",
       "    }\n",
       "\n",
       "    .dataframe thead th {\n",
       "        text-align: right;\n",
       "    }\n",
       "</style>\n",
       "<table border=\"1\" class=\"dataframe\">\n",
       "  <thead>\n",
       "    <tr style=\"text-align: right;\">\n",
       "      <th></th>\n",
       "      <th>ORG_precision</th>\n",
       "      <th>ORG_recall</th>\n",
       "      <th>ORG_f1score</th>\n",
       "      <th>PER_precision</th>\n",
       "      <th>PER_recall</th>\n",
       "      <th>PER_f1score</th>\n",
       "      <th>MISC_precision</th>\n",
       "      <th>MISC_recall</th>\n",
       "      <th>MISC_f1score</th>\n",
       "      <th>LOC_precision</th>\n",
       "      <th>LOC_recall</th>\n",
       "      <th>LOC_f1score</th>\n",
       "      <th>LOC_ORG_precision</th>\n",
       "      <th>LOC_ORG_recall</th>\n",
       "      <th>LOC_ORG_f1score</th>\n",
       "    </tr>\n",
       "  </thead>\n",
       "  <tbody>\n",
       "    <tr>\n",
       "      <th>model_gaz_loc</th>\n",
       "      <td>0.451613</td>\n",
       "      <td>0.424242</td>\n",
       "      <td>0.437500</td>\n",
       "      <td>0.900292</td>\n",
       "      <td>0.868066</td>\n",
       "      <td>0.883885</td>\n",
       "      <td>0.263158</td>\n",
       "      <td>0.178571</td>\n",
       "      <td>0.212766</td>\n",
       "      <td>0.354545</td>\n",
       "      <td>0.217270</td>\n",
       "      <td>0.269430</td>\n",
       "      <td>0.662300</td>\n",
       "      <td>0.543608</td>\n",
       "      <td>0.597113</td>\n",
       "    </tr>\n",
       "    <tr>\n",
       "      <th>model_gaz_loc_variants</th>\n",
       "      <td>0.442623</td>\n",
       "      <td>0.409091</td>\n",
       "      <td>0.425197</td>\n",
       "      <td>0.906832</td>\n",
       "      <td>0.875562</td>\n",
       "      <td>0.890923</td>\n",
       "      <td>0.294118</td>\n",
       "      <td>0.178571</td>\n",
       "      <td>0.222222</td>\n",
       "      <td>0.385321</td>\n",
       "      <td>0.233983</td>\n",
       "      <td>0.291161</td>\n",
       "      <td>0.652555</td>\n",
       "      <td>0.534050</td>\n",
       "      <td>0.587385</td>\n",
       "    </tr>\n",
       "    <tr>\n",
       "      <th>model_gaz_loc_k2sitsi</th>\n",
       "      <td>0.031746</td>\n",
       "      <td>0.030303</td>\n",
       "      <td>0.031008</td>\n",
       "      <td>0.042037</td>\n",
       "      <td>0.039918</td>\n",
       "      <td>0.040950</td>\n",
       "      <td>0.000000</td>\n",
       "      <td>0.000000</td>\n",
       "      <td>0.000000</td>\n",
       "      <td>0.024752</td>\n",
       "      <td>0.013928</td>\n",
       "      <td>0.017825</td>\n",
       "      <td>0.029453</td>\n",
       "      <td>0.025090</td>\n",
       "      <td>0.027097</td>\n",
       "    </tr>\n",
       "    <tr>\n",
       "      <th>model_gaz_loc_variants_k2sitsi</th>\n",
       "      <td>0.032787</td>\n",
       "      <td>0.030303</td>\n",
       "      <td>0.031496</td>\n",
       "      <td>0.042153</td>\n",
       "      <td>0.039918</td>\n",
       "      <td>0.041005</td>\n",
       "      <td>0.000000</td>\n",
       "      <td>0.000000</td>\n",
       "      <td>0.000000</td>\n",
       "      <td>0.024752</td>\n",
       "      <td>0.013928</td>\n",
       "      <td>0.017825</td>\n",
       "      <td>0.029577</td>\n",
       "      <td>0.025090</td>\n",
       "      <td>0.027149</td>\n",
       "    </tr>\n",
       "  </tbody>\n",
       "</table>\n",
       "</div>"
      ],
      "text/plain": [
       "                                ORG_precision  ORG_recall  ORG_f1score  \\\n",
       "model_gaz_loc                        0.451613    0.424242     0.437500   \n",
       "model_gaz_loc_variants               0.442623    0.409091     0.425197   \n",
       "model_gaz_loc_k2sitsi                0.031746    0.030303     0.031008   \n",
       "model_gaz_loc_variants_k2sitsi       0.032787    0.030303     0.031496   \n",
       "\n",
       "                                PER_precision  PER_recall  PER_f1score  \\\n",
       "model_gaz_loc                        0.900292    0.868066     0.883885   \n",
       "model_gaz_loc_variants               0.906832    0.875562     0.890923   \n",
       "model_gaz_loc_k2sitsi                0.042037    0.039918     0.040950   \n",
       "model_gaz_loc_variants_k2sitsi       0.042153    0.039918     0.041005   \n",
       "\n",
       "                                MISC_precision  MISC_recall  MISC_f1score  \\\n",
       "model_gaz_loc                         0.263158     0.178571      0.212766   \n",
       "model_gaz_loc_variants                0.294118     0.178571      0.222222   \n",
       "model_gaz_loc_k2sitsi                 0.000000     0.000000      0.000000   \n",
       "model_gaz_loc_variants_k2sitsi        0.000000     0.000000      0.000000   \n",
       "\n",
       "                                LOC_precision  LOC_recall  LOC_f1score  \\\n",
       "model_gaz_loc                        0.354545    0.217270     0.269430   \n",
       "model_gaz_loc_variants               0.385321    0.233983     0.291161   \n",
       "model_gaz_loc_k2sitsi                0.024752    0.013928     0.017825   \n",
       "model_gaz_loc_variants_k2sitsi       0.024752    0.013928     0.017825   \n",
       "\n",
       "                                LOC_ORG_precision  LOC_ORG_recall  \\\n",
       "model_gaz_loc                            0.662300        0.543608   \n",
       "model_gaz_loc_variants                   0.652555        0.534050   \n",
       "model_gaz_loc_k2sitsi                    0.029453        0.025090   \n",
       "model_gaz_loc_variants_k2sitsi           0.029577        0.025090   \n",
       "\n",
       "                                LOC_ORG_f1score  \n",
       "model_gaz_loc                          0.597113  \n",
       "model_gaz_loc_variants                 0.587385  \n",
       "model_gaz_loc_k2sitsi                  0.027097  \n",
       "model_gaz_loc_variants_k2sitsi         0.027149  "
      ]
     },
     "metadata": {},
     "output_type": "display_data"
    }
   ],
   "source": [
    "display(pd.DataFrame(totals_by_named_entity).T)"
   ]
  },
  {
   "cell_type": "code",
   "execution_count": 6,
   "metadata": {},
   "outputs": [],
   "source": [
    "files = []\n",
    "for file in os.listdir(os.path.join('test', 'flattened_json_files')):\n",
    "    if file.endswith('.json'):\n",
    "        files.append(file)"
   ]
  },
  {
   "cell_type": "code",
   "execution_count": 7,
   "metadata": {},
   "outputs": [
    {
     "name": "stdout",
     "output_type": "stream",
     "text": [
      "model_gaz_loc\n",
      "Predicted  LOC  LOC_ORG  MISC  ORG   PER\n",
      "Actual                                  \n",
      "LOC         78       28     0    2    24\n",
      "LOC_ORG      9      455     0    2    27\n",
      "MISC         0        0     5    0     1\n",
      "ORG          0        3     0   28     2\n",
      "PER          5        9     0    0  4632\n",
      "\n",
      "\n",
      "model_gaz_loc_variants\n",
      "Predicted  LOC  LOC_ORG  ORG  PER\n",
      "Actual                           \n",
      "LOC          5        1    0    2\n",
      "LOC_ORG      0       22    0    3\n",
      "ORG          0        0    2    0\n",
      "PER          0        3    0  212\n",
      "\n",
      "\n",
      "model_gaz_loc_k2sitsi\n",
      "Predicted  LOC  LOC_ORG  ORG  PER\n",
      "Actual                           \n",
      "LOC          5        1    0    2\n",
      "LOC_ORG      0       21    0    3\n",
      "ORG          0        0    2    0\n",
      "PER          0        2    0  213\n",
      "\n",
      "\n",
      "model_gaz_loc_variants_k2sitsi\n",
      "Predicted  LOC  LOC_ORG  ORG  PER\n",
      "Actual                           \n",
      "LOC          5        1    0    2\n",
      "LOC_ORG      0       21    0    3\n",
      "ORG          0        0    2    0\n",
      "PER          0        3    0  213\n",
      "\n",
      "\n"
     ]
    }
   ],
   "source": [
    "for model in model_directories:\n",
    "    y_true, y_pred = confusion_matrix(model, files)\n",
    "    print(model)\n",
    "    print(pd.crosstab(y_true, y_pred))\n",
    "    print('\\n')"
   ]
  }
 ],
 "metadata": {
  "kernelspec": {
   "display_name": "Python 3",
   "language": "python",
   "name": "python3"
  },
  "language_info": {
   "codemirror_mode": {
    "name": "ipython",
    "version": 3
   },
   "file_extension": ".py",
   "mimetype": "text/x-python",
   "name": "python",
   "nbconvert_exporter": "python",
   "pygments_lexer": "ipython3",
   "version": "3.7.9"
  }
 },
 "nbformat": 4,
 "nbformat_minor": 4
}
