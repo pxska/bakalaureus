{
 "cells": [
  {
   "cell_type": "code",
   "execution_count": 6,
   "metadata": {},
   "outputs": [],
   "source": [
    "import os\n",
    "import re\n",
    "\n",
    "from modules.corpus_readers_fixed import read_from_tsv"
   ]
  },
  {
   "cell_type": "code",
   "execution_count": 3,
   "metadata": {},
   "outputs": [],
   "source": [
    "tsv_texts = read_from_tsv(os.path.join('test', 'morf_analyysid'))"
   ]
  },
  {
   "cell_type": "code",
   "execution_count": 11,
   "metadata": {},
   "outputs": [],
   "source": [
    "for text in tsv_texts:\n",
    "    text_id = text.meta['id']\n",
    "    text = re.sub(r' ([.,?!:;]) ', '\\\\1 ', text.text)\n",
    "    with open(os.path.join('test', 'morf_analyysid', text_id+'.txt'), 'w+', encoding='UTF-8') as out_f:\n",
    "        out_f.write(text)"
   ]
  }
 ],
 "metadata": {
  "kernelspec": {
   "display_name": "Python 3",
   "language": "python",
   "name": "python3"
  },
  "language_info": {
   "codemirror_mode": {
    "name": "ipython",
    "version": 3
   },
   "file_extension": ".py",
   "mimetype": "text/x-python",
   "name": "python",
   "nbconvert_exporter": "python",
   "pygments_lexer": "ipython3",
   "version": "3.7.9"
  }
 },
 "nbformat": 4,
 "nbformat_minor": 4
}
