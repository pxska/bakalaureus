{
 "cells": [
  {
   "cell_type": "markdown",
   "metadata": {},
   "source": [
    "# How well does today's Estonian written language NER model perform on the court protocols?"
   ]
  },
  {
   "cell_type": "markdown",
   "metadata": {},
   "source": [
    "### Imports:"
   ]
  },
  {
   "cell_type": "code",
   "execution_count": 1,
   "metadata": {},
   "outputs": [],
   "source": [
    "import json\n",
    "import os\n",
    "import re\n",
    "import pandas as pd\n",
    "\n",
    "from estnltk import Text\n",
    "from estnltk.taggers import NerTagger\n",
    "from estnltk.converters import text_to_json\n",
    "from estnltk.converters import json_to_text\n",
    "from estnltk.layer_operations import flatten\n",
    "\n",
    "from nervaluate import Evaluator\n",
    "from modules.preprocessing_protocols import preprocess_text\n",
    "from modules.results_extraction import extract_results, results_by_subdistribution, results_by_named_entity"
   ]
  },
  {
   "cell_type": "markdown",
   "metadata": {},
   "source": [
    "### Re-used variables:"
   ]
  },
  {
   "cell_type": "code",
   "execution_count": 2,
   "metadata": {},
   "outputs": [],
   "source": [
    "divided_corpus = os.path.join('..', 'data', 'divided_corpus.txt')\n",
    "json_files_location = os.path.join('..', 'data', 'vallakohtufailid-json-flattened')\n",
    "baseline_files_location = os.path.join('..', 'data', 'vallakohtufailid_nertagger_baseline')\n",
    "no_goldstandard_tags_location = os.path.join('..', 'data', 'files_without_goldstandard_annotations.txt')\n",
    "results_location = os.path.join('..', 'data')\n",
    "\n",
    "removed_layers = ['sentences', 'morph_analysis', 'compound_tokens', 'ner', 'words', 'tokens']\n",
    "nertagger = NerTagger()"
   ]
  },
  {
   "cell_type": "markdown",
   "metadata": {},
   "source": [
    "Read files from the distributed corpus:"
   ]
  },
  {
   "cell_type": "code",
   "execution_count": 3,
   "metadata": {},
   "outputs": [],
   "source": [
    "files = {}\n",
    "\n",
    "with open(divided_corpus, 'r', encoding = 'UTF-8') as f:\n",
    "    txt = f.readlines()\n",
    "\n",
    "for filename in txt:\n",
    "    file, subdistribution = filename.split(':')\n",
    "    files[file] = subdistribution.strip()"
   ]
  },
  {
   "cell_type": "markdown",
   "metadata": {},
   "source": [
    "Get files without goldstandard annotations:"
   ]
  },
  {
   "cell_type": "code",
   "execution_count": 4,
   "metadata": {},
   "outputs": [],
   "source": [
    "with open(no_goldstandard_tags_location, 'r', encoding='UTF-8') as in_f:\n",
    "    lines = in_f.readlines()\n",
    "\n",
    "no_goldstandard_annotations = [line.strip() for line in lines]"
   ]
  },
  {
   "cell_type": "markdown",
   "metadata": {},
   "source": [
    "### Make `ner` and `wordner` layers from goldstandard files"
   ]
  },
  {
   "cell_type": "code",
   "execution_count": 9,
   "metadata": {},
   "outputs": [],
   "source": [
    "for file in files:\n",
    "    with open(os.path.join(json_files_location, file), 'r', encoding='UTF-8') as in_f:\n",
    "        text = json_to_text(in_f.read()).text\n",
    "\n",
    "        text = preprocess_text(Text(text))\n",
    "        \n",
    "        nertagger.tag(text)\n",
    "        text.add_layer(flatten(text['ner'], 'flat_ner'))\n",
    "                \n",
    "        for x in removed_layers:\n",
    "            text.pop_layer(x)\n",
    "        \n",
    "        text_to_json(text, file=os.path.join(baseline_files_location, file))"
   ]
  },
  {
   "cell_type": "markdown",
   "metadata": {},
   "source": [
    "### Calculate the scores"
   ]
  },
  {
   "cell_type": "code",
   "execution_count": 7,
   "metadata": {},
   "outputs": [
    {
     "name": "stdout",
     "output_type": "stream",
     "text": [
      "Results have been saved to ../data/results.txt\n"
     ]
    }
   ],
   "source": [
    "extract_results(files,\\\n",
    "                no_goldstandard_annotations,\\\n",
    "                baseline_files_location,\\\n",
    "                json_files_location,\\\n",
    "                results_location)"
   ]
  },
  {
   "cell_type": "markdown",
   "metadata": {},
   "source": [
    "### Results:"
   ]
  },
  {
   "cell_type": "code",
   "execution_count": 5,
   "metadata": {},
   "outputs": [],
   "source": [
    "with open(os.path.join(results_location, 'results.txt'), 'r', encoding='UTF-8') as in_f:\n",
    "    json_text = json.loads(in_f.read())\n",
    "    results_subdist = results_by_subdistribution(json_text, files)\n",
    "    results_ne = results_by_named_entity(json_text, files)"
   ]
  },
  {
   "cell_type": "code",
   "execution_count": 6,
   "metadata": {},
   "outputs": [
    {
     "data": {
      "text/html": [
       "<div>\n",
       "<style scoped>\n",
       "    .dataframe tbody tr th:only-of-type {\n",
       "        vertical-align: middle;\n",
       "    }\n",
       "\n",
       "    .dataframe tbody tr th {\n",
       "        vertical-align: top;\n",
       "    }\n",
       "\n",
       "    .dataframe thead th {\n",
       "        text-align: right;\n",
       "    }\n",
       "</style>\n",
       "<table border=\"1\" class=\"dataframe\">\n",
       "  <thead>\n",
       "    <tr style=\"text-align: right;\">\n",
       "      <th>Alamhulk</th>\n",
       "      <th>1</th>\n",
       "      <th>2</th>\n",
       "      <th>3</th>\n",
       "      <th>4</th>\n",
       "      <th>5</th>\n",
       "      <th>Total</th>\n",
       "    </tr>\n",
       "  </thead>\n",
       "  <tbody>\n",
       "    <tr>\n",
       "      <th>Precision</th>\n",
       "      <td>0.591655</td>\n",
       "      <td>0.584328</td>\n",
       "      <td>0.542553</td>\n",
       "      <td>0.543807</td>\n",
       "      <td>0.606783</td>\n",
       "      <td>0.573695</td>\n",
       "    </tr>\n",
       "    <tr>\n",
       "      <th>Recall</th>\n",
       "      <td>0.574115</td>\n",
       "      <td>0.574496</td>\n",
       "      <td>0.543210</td>\n",
       "      <td>0.501393</td>\n",
       "      <td>0.583789</td>\n",
       "      <td>0.553877</td>\n",
       "    </tr>\n",
       "    <tr>\n",
       "      <th>F1</th>\n",
       "      <td>0.582753</td>\n",
       "      <td>0.579370</td>\n",
       "      <td>0.542881</td>\n",
       "      <td>0.521739</td>\n",
       "      <td>0.595064</td>\n",
       "      <td>0.563612</td>\n",
       "    </tr>\n",
       "  </tbody>\n",
       "</table>\n",
       "</div>"
      ],
      "text/plain": [
       "Alamhulk          1         2         3         4         5     Total\n",
       "Precision  0.591655  0.584328  0.542553  0.543807  0.606783  0.573695\n",
       "Recall     0.574115  0.574496  0.543210  0.501393  0.583789  0.553877\n",
       "F1         0.582753  0.579370  0.542881  0.521739  0.595064  0.563612"
      ]
     },
     "metadata": {},
     "output_type": "display_data"
    }
   ],
   "source": [
    "display(pd.DataFrame(results_subdist))"
   ]
  },
  {
   "cell_type": "code",
   "execution_count": 7,
   "metadata": {},
   "outputs": [
    {
     "data": {
      "text/html": [
       "<div>\n",
       "<style scoped>\n",
       "    .dataframe tbody tr th:only-of-type {\n",
       "        vertical-align: middle;\n",
       "    }\n",
       "\n",
       "    .dataframe tbody tr th {\n",
       "        vertical-align: top;\n",
       "    }\n",
       "\n",
       "    .dataframe thead th {\n",
       "        text-align: right;\n",
       "    }\n",
       "</style>\n",
       "<table border=\"1\" class=\"dataframe\">\n",
       "  <thead>\n",
       "    <tr style=\"text-align: right;\">\n",
       "      <th></th>\n",
       "      <th>1</th>\n",
       "      <th>2</th>\n",
       "      <th>3</th>\n",
       "      <th>4</th>\n",
       "      <th>5</th>\n",
       "      <th>Total</th>\n",
       "    </tr>\n",
       "  </thead>\n",
       "  <tbody>\n",
       "    <tr>\n",
       "      <th>ORG_precision</th>\n",
       "      <td>0.051643</td>\n",
       "      <td>0.029740</td>\n",
       "      <td>0.040230</td>\n",
       "      <td>0.039867</td>\n",
       "      <td>0.015209</td>\n",
       "      <td>0.035338</td>\n",
       "    </tr>\n",
       "    <tr>\n",
       "      <th>ORG_recall</th>\n",
       "      <td>0.186441</td>\n",
       "      <td>0.121212</td>\n",
       "      <td>0.200000</td>\n",
       "      <td>0.164384</td>\n",
       "      <td>0.051282</td>\n",
       "      <td>0.144664</td>\n",
       "    </tr>\n",
       "    <tr>\n",
       "      <th>ORG_f1score</th>\n",
       "      <td>0.080882</td>\n",
       "      <td>0.047761</td>\n",
       "      <td>0.066986</td>\n",
       "      <td>0.064171</td>\n",
       "      <td>0.023460</td>\n",
       "      <td>0.056652</td>\n",
       "    </tr>\n",
       "    <tr>\n",
       "      <th>PER_precision</th>\n",
       "      <td>0.695688</td>\n",
       "      <td>0.695866</td>\n",
       "      <td>0.662948</td>\n",
       "      <td>0.655266</td>\n",
       "      <td>0.721677</td>\n",
       "      <td>0.686289</td>\n",
       "    </tr>\n",
       "    <tr>\n",
       "      <th>PER_recall</th>\n",
       "      <td>0.666580</td>\n",
       "      <td>0.665445</td>\n",
       "      <td>0.634815</td>\n",
       "      <td>0.592559</td>\n",
       "      <td>0.687737</td>\n",
       "      <td>0.649427</td>\n",
       "    </tr>\n",
       "    <tr>\n",
       "      <th>PER_f1score</th>\n",
       "      <td>0.680823</td>\n",
       "      <td>0.680316</td>\n",
       "      <td>0.648577</td>\n",
       "      <td>0.622337</td>\n",
       "      <td>0.704298</td>\n",
       "      <td>0.667270</td>\n",
       "    </tr>\n",
       "    <tr>\n",
       "      <th>MISC_precision</th>\n",
       "      <td>0.000000</td>\n",
       "      <td>0.000000</td>\n",
       "      <td>0.000000</td>\n",
       "      <td>0.000000</td>\n",
       "      <td>0.000000</td>\n",
       "      <td>0.000000</td>\n",
       "    </tr>\n",
       "    <tr>\n",
       "      <th>MISC_recall</th>\n",
       "      <td>0.000000</td>\n",
       "      <td>0.000000</td>\n",
       "      <td>0.000000</td>\n",
       "      <td>0.000000</td>\n",
       "      <td>0.000000</td>\n",
       "      <td>0.000000</td>\n",
       "    </tr>\n",
       "    <tr>\n",
       "      <th>MISC_f1score</th>\n",
       "      <td>0.000000</td>\n",
       "      <td>0.000000</td>\n",
       "      <td>0.000000</td>\n",
       "      <td>0.000000</td>\n",
       "      <td>0.000000</td>\n",
       "      <td>0.000000</td>\n",
       "    </tr>\n",
       "    <tr>\n",
       "      <th>LOC_precision</th>\n",
       "      <td>0.103825</td>\n",
       "      <td>0.213270</td>\n",
       "      <td>0.161458</td>\n",
       "      <td>0.240437</td>\n",
       "      <td>0.236715</td>\n",
       "      <td>0.191141</td>\n",
       "    </tr>\n",
       "    <tr>\n",
       "      <th>LOC_recall</th>\n",
       "      <td>0.125828</td>\n",
       "      <td>0.230769</td>\n",
       "      <td>0.187879</td>\n",
       "      <td>0.282051</td>\n",
       "      <td>0.250000</td>\n",
       "      <td>0.215305</td>\n",
       "    </tr>\n",
       "    <tr>\n",
       "      <th>LOC_f1score</th>\n",
       "      <td>0.113772</td>\n",
       "      <td>0.221675</td>\n",
       "      <td>0.173669</td>\n",
       "      <td>0.259587</td>\n",
       "      <td>0.243176</td>\n",
       "      <td>0.202376</td>\n",
       "    </tr>\n",
       "    <tr>\n",
       "      <th>LOC_ORG_precision</th>\n",
       "      <td>0.000000</td>\n",
       "      <td>0.000000</td>\n",
       "      <td>0.000000</td>\n",
       "      <td>0.000000</td>\n",
       "      <td>0.000000</td>\n",
       "      <td>0.000000</td>\n",
       "    </tr>\n",
       "    <tr>\n",
       "      <th>LOC_ORG_recall</th>\n",
       "      <td>0.000000</td>\n",
       "      <td>0.000000</td>\n",
       "      <td>0.000000</td>\n",
       "      <td>0.000000</td>\n",
       "      <td>0.000000</td>\n",
       "      <td>0.000000</td>\n",
       "    </tr>\n",
       "    <tr>\n",
       "      <th>LOC_ORG_f1score</th>\n",
       "      <td>0.000000</td>\n",
       "      <td>0.000000</td>\n",
       "      <td>0.000000</td>\n",
       "      <td>0.000000</td>\n",
       "      <td>0.000000</td>\n",
       "      <td>0.000000</td>\n",
       "    </tr>\n",
       "  </tbody>\n",
       "</table>\n",
       "</div>"
      ],
      "text/plain": [
       "                          1         2         3         4         5     Total\n",
       "ORG_precision      0.051643  0.029740  0.040230  0.039867  0.015209  0.035338\n",
       "ORG_recall         0.186441  0.121212  0.200000  0.164384  0.051282  0.144664\n",
       "ORG_f1score        0.080882  0.047761  0.066986  0.064171  0.023460  0.056652\n",
       "PER_precision      0.695688  0.695866  0.662948  0.655266  0.721677  0.686289\n",
       "PER_recall         0.666580  0.665445  0.634815  0.592559  0.687737  0.649427\n",
       "PER_f1score        0.680823  0.680316  0.648577  0.622337  0.704298  0.667270\n",
       "MISC_precision     0.000000  0.000000  0.000000  0.000000  0.000000  0.000000\n",
       "MISC_recall        0.000000  0.000000  0.000000  0.000000  0.000000  0.000000\n",
       "MISC_f1score       0.000000  0.000000  0.000000  0.000000  0.000000  0.000000\n",
       "LOC_precision      0.103825  0.213270  0.161458  0.240437  0.236715  0.191141\n",
       "LOC_recall         0.125828  0.230769  0.187879  0.282051  0.250000  0.215305\n",
       "LOC_f1score        0.113772  0.221675  0.173669  0.259587  0.243176  0.202376\n",
       "LOC_ORG_precision  0.000000  0.000000  0.000000  0.000000  0.000000  0.000000\n",
       "LOC_ORG_recall     0.000000  0.000000  0.000000  0.000000  0.000000  0.000000\n",
       "LOC_ORG_f1score    0.000000  0.000000  0.000000  0.000000  0.000000  0.000000"
      ]
     },
     "metadata": {},
     "output_type": "display_data"
    }
   ],
   "source": [
    "display(pd.DataFrame(results_ne))"
   ]
  },
  {
   "cell_type": "markdown",
   "metadata": {},
   "source": [
    "Disclaimer: The results for the `LOC_ORG` and `MISC` tag are `0`, because today's written Estonian NER tagger model does not use these labels. `LOC_ORG` could either be defined as `LOC` or `ORG`."
   ]
  }
 ],
 "metadata": {
  "kernelspec": {
   "display_name": "Python 3",
   "language": "python",
   "name": "python3"
  },
  "language_info": {
   "codemirror_mode": {
    "name": "ipython",
    "version": 3
   },
   "file_extension": ".py",
   "mimetype": "text/x-python",
   "name": "python",
   "nbconvert_exporter": "python",
   "pygments_lexer": "ipython3",
   "version": "3.8.10"
  }
 },
 "nbformat": 4,
 "nbformat_minor": 4
}
