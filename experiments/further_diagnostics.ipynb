{
 "cells": [
  {
   "cell_type": "code",
   "execution_count": 1,
   "metadata": {},
   "outputs": [],
   "source": [
    "import os\n",
    "\n",
    "from estnltk.converters import json_to_text"
   ]
  },
  {
   "cell_type": "markdown",
   "metadata": {},
   "source": [
    "Find all names in best model gazetteer:"
   ]
  },
  {
   "cell_type": "code",
   "execution_count": 2,
   "metadata": {},
   "outputs": [],
   "source": [
    "with open(os.path.join('models', 'gazetteer_both_lowercase_added_loc_and_variants.txt'), 'r', encoding='UTF-8') as in_gaz:\n",
    "    lines = in_gaz.readlines()\n",
    "\n",
    "names = [line.split('\\t')[:-1][0] for line in lines]"
   ]
  },
  {
   "cell_type": "markdown",
   "metadata": {},
   "source": [
    "Find all names in goldstandard corpus:"
   ]
  },
  {
   "cell_type": "code",
   "execution_count": 46,
   "metadata": {},
   "outputs": [],
   "source": [
    "# Initial divided corpus\n",
    "dist_corpus = dict()\n",
    "\n",
    "with open(os.path.join('..', 'data', 'divided_corpus.txt'), 'r', encoding='UTF-8') as in_corpus:\n",
    "    lines = in_corpus.readlines()\n",
    "\n",
    "with open(os.path.join('..', 'data', 'corpus_subdistribution_without_hand_tagged.txt'), 'r', encoding='UTF-8') as in_corpus:\n",
    "    for line in in_corpus.readlines():\n",
    "        lines.append(line)\n",
    "\n",
    "for line in lines:\n",
    "    dist_corpus[line.split(':')[0]] = line.split(':')[1].strip()"
   ]
  },
  {
   "cell_type": "code",
   "execution_count": 47,
   "metadata": {},
   "outputs": [],
   "source": [
    "corpus = dict()\n",
    "test_corpus = dict()\n",
    "\n",
    "for file in dist_corpus:\n",
    "    with open(os.path.join('..', 'data', 'vallakohtufailid-json-flattened', str(file)), 'r', encoding='UTF-8') as in_file:\n",
    "        if dist_corpus[file] == '6':\n",
    "            test_corpus[str(file)] = [name.text.lower() for name in json_to_text(in_file.read()).gold_ner]\n",
    "        else:\n",
    "            corpus[str(file)] = [name.text.lower() for name in json_to_text(in_file.read()).gold_ner]"
   ]
  },
  {
   "cell_type": "code",
   "execution_count": 48,
   "metadata": {},
   "outputs": [],
   "source": [
    "common_names = list()\n",
    "\n",
    "for file in test_corpus:\n",
    "    intersection = list(set(test_corpus[file]).intersection(names))\n",
    "    for name in intersection:\n",
    "        common_names.append(name)"
   ]
  },
  {
   "cell_type": "code",
   "execution_count": 49,
   "metadata": {},
   "outputs": [],
   "source": [
    "all_names_length = len([name for name in test_corpus[file] for file in test_corpus])\n",
    "common_names_length = len(common_names)"
   ]
  },
  {
   "cell_type": "markdown",
   "metadata": {},
   "source": [
    "How many names do the test corpus and gazzetteer have in common:"
   ]
  },
  {
   "cell_type": "code",
   "execution_count": 50,
   "metadata": {
    "scrolled": true
   },
   "outputs": [
    {
     "name": "stdout",
     "output_type": "stream",
     "text": [
      "0.24\n"
     ]
    }
   ],
   "source": [
    "print(round((common_names_length / all_names_length), 2))"
   ]
  },
  {
   "cell_type": "markdown",
   "metadata": {},
   "source": [
    "How many names do the training corpus and test corpus have in common:"
   ]
  },
  {
   "cell_type": "code",
   "execution_count": 51,
   "metadata": {
    "scrolled": true
   },
   "outputs": [],
   "source": [
    "test_corpus_names = list()\n",
    "for file in test_corpus:\n",
    "    for name in test_corpus[file]:\n",
    "        test_corpus_names.append(name)"
   ]
  },
  {
   "cell_type": "code",
   "execution_count": 52,
   "metadata": {},
   "outputs": [],
   "source": [
    "training_corpus_names = list()\n",
    "for file in corpus:\n",
    "    for name in corpus[file]:\n",
    "        training_corpus_names.append(name)"
   ]
  },
  {
   "cell_type": "code",
   "execution_count": 54,
   "metadata": {},
   "outputs": [],
   "source": [
    "common_names_test_and_training = len(list(set(test_corpus_names).intersection(training_corpus_names)))"
   ]
  },
  {
   "cell_type": "code",
   "execution_count": 55,
   "metadata": {},
   "outputs": [
    {
     "name": "stdout",
     "output_type": "stream",
     "text": [
      "0.2\n"
     ]
    }
   ],
   "source": [
    "print(round((common_names_test_and_training / all_names_length), 2))"
   ]
  },
  {
   "cell_type": "markdown",
   "metadata": {},
   "source": [
    "How many names do the training corpus and gazetteer have in common:"
   ]
  },
  {
   "cell_type": "code",
   "execution_count": 56,
   "metadata": {},
   "outputs": [
    {
     "name": "stdout",
     "output_type": "stream",
     "text": [
      "0.09\n"
     ]
    }
   ],
   "source": [
    "common_names_training_and_gaz = len(list(set(training_corpus_names).intersection(names)))\n",
    "print(round((common_names_training_and_gaz / len(training_corpus_names)), 2))"
   ]
  }
 ],
 "metadata": {
  "kernelspec": {
   "display_name": "Python 3",
   "language": "python",
   "name": "python3"
  },
  "language_info": {
   "codemirror_mode": {
    "name": "ipython",
    "version": 3
   },
   "file_extension": ".py",
   "mimetype": "text/x-python",
   "name": "python",
   "nbconvert_exporter": "python",
   "pygments_lexer": "ipython3",
   "version": "3.7.9"
  }
 },
 "nbformat": 4,
 "nbformat_minor": 4
}
