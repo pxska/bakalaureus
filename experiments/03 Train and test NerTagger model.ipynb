{
 "cells": [
  {
   "cell_type": "code",
   "execution_count": 1,
   "metadata": {},
   "outputs": [],
   "source": [
    "import json\n",
    "import time\n",
    "import os\n",
    "import re\n",
    "\n",
    "from modules.preprocessing_protocols import preprocess_text\n",
    "from modules.results_extraction import extract_results, \\\n",
    "                                       results_by_subdistribution, \\\n",
    "                                       results_by_named_entity, \\\n",
    "                                       confusion_matrix\n",
    "from modules.tools import find\n",
    "\n",
    "from estnltk import Text\n",
    "from estnltk.taggers import NerTagger\n",
    "from estnltk.converters import text_to_json\n",
    "from estnltk.converters import json_to_text\n",
    "from estnltk.layer_operations import flatten\n",
    "\n",
    "from estnltk.taggers.estner.ner_trainer import NerTrainer\n",
    "from estnltk.taggers.estner.model_storage_util import ModelStorageUtil\n",
    "\n",
    "from estnltk.taggers import VabamorfCorpusTagger\n",
    "vm_corpus_tagger = VabamorfCorpusTagger()"
   ]
  },
  {
   "cell_type": "markdown",
   "metadata": {},
   "source": [
    "### Flags & variables:"
   ]
  },
  {
   "cell_type": "code",
   "execution_count": 2,
   "metadata": {},
   "outputs": [],
   "source": [
    "use_vabamorfcorpustagger = False"
   ]
  },
  {
   "cell_type": "code",
   "execution_count": 2,
   "metadata": {},
   "outputs": [],
   "source": [
    "divided_corpus = os.path.join('..', 'data', 'divided_corpus.txt')\n",
    "json_files_location = os.path.join('..', 'data', 'vallakohtufailid-json-flattened')\n",
    "vallakohtufailid_location = os.path.join('..', 'data', 'vallakohtufailid')\n",
    "no_goldstandard_tags_location = os.path.join('..', 'data', 'files_without_goldstandard_annotations.txt')\n",
    "testing_files_location = os.path.join('..', 'data', 'vallakohtufailid-json-flattened')\n",
    "\n",
    "removed_layers = ['sentences', 'morph_analysis', 'compound_tokens', 'ner', 'words', 'tokens']"
   ]
  },
  {
   "cell_type": "markdown",
   "metadata": {},
   "source": [
    "---"
   ]
  },
  {
   "cell_type": "markdown",
   "metadata": {},
   "source": [
    "Get files without goldstandard annotations"
   ]
  },
  {
   "cell_type": "code",
   "execution_count": 5,
   "metadata": {},
   "outputs": [],
   "source": [
    "with open(no_goldstandard_tags_location, 'r', encoding='UTF-8') as in_f:\n",
    "    lines = in_f.readlines()\n",
    "\n",
    "no_goldstandard_annotations = [line.strip() for line in lines]"
   ]
  },
  {
   "cell_type": "markdown",
   "metadata": {},
   "source": [
    "Get all files for the first five subdistributions"
   ]
  },
  {
   "cell_type": "code",
   "execution_count": 3,
   "metadata": {},
   "outputs": [],
   "source": [
    "files = {}\n",
    "\n",
    "with open(divided_corpus, 'r', encoding = 'UTF-8') as in_f:\n",
    "    txt = in_f.readlines()\n",
    "\n",
    "for filename in txt:\n",
    "    file, subdistribution = filename.split(\":\")\n",
    "    files[file] = subdistribution.strip()"
   ]
  },
  {
   "cell_type": "markdown",
   "metadata": {},
   "source": [
    "Return the subdistribution for testing and training\n",
    "(e.g. `1` to test, `2`;`3`;`4`;`5` to train or `2` to test, `1` and `3`;`4`;`5` to train)"
   ]
  },
  {
   "cell_type": "code",
   "execution_count": 6,
   "metadata": {},
   "outputs": [],
   "source": [
    "def get_testing_and_training_subdistribution(subdistribution):\n",
    "    training = []\n",
    "    for y in sorted(set(files.values())):\n",
    "        if int(y) == subdistribution:\n",
    "            testing = int(y)\n",
    "        else:\n",
    "            training.append(int(y))\n",
    "    return testing, training"
   ]
  },
  {
   "cell_type": "markdown",
   "metadata": {},
   "source": [
    "Create a list of Text objects from the files read in before (the subdistributions meant for training)"
   ]
  },
  {
   "cell_type": "code",
   "execution_count": 7,
   "metadata": {},
   "outputs": [],
   "source": [
    "def create_training_texts(filenames):\n",
    "    print('(!) Preparing training texts')\n",
    "    \n",
    "    training_texts = []\n",
    "    \n",
    "    for filename in filenames:\n",
    "        if filename in no_goldstandard_annotations:\n",
    "            continue\n",
    "        else:\n",
    "            with open(os.path.join(json_files_location, filename), 'r', encoding='UTF-8') as in_f:\n",
    "                tagged_text = preprocess_text(json_to_text(in_f.read()))\n",
    "                \n",
    "            if use_vabamorfcorpustagger:\n",
    "                tagged_text.pop_layer('morph_analysis')\n",
    "                vm_corpus_tagger.tag([tagged_text])\n",
    "\n",
    "            training_texts.append(tagged_text)\n",
    "            \n",
    "    print('(!) Training texts done')\n",
    "    return training_texts"
   ]
  },
  {
   "cell_type": "markdown",
   "metadata": {},
   "source": [
    "Train the NerTagger model using settings from the model directory"
   ]
  },
  {
   "cell_type": "code",
   "execution_count": 8,
   "metadata": {},
   "outputs": [],
   "source": [
    "def train_nertagger(training_texts, new_model_dir):\n",
    "    print('(!) Training NerTagger')\n",
    "    \n",
    "    modelUtil = ModelStorageUtil(new_model_dir)\n",
    "    nersettings = modelUtil.load_settings()\n",
    "    trainer = NerTrainer(nersettings)\n",
    "    trainer.train( training_texts, layer='gold_wordner', model_dir=new_model_dir )\n",
    "    print('(!) NerTagger training done\\n')"
   ]
  },
  {
   "cell_type": "markdown",
   "metadata": {},
   "source": [
    "Tag the files by finding the appropriate from vallakohtufailid_location,\n",
    "then preprocessing them, removing layers for optimal file sizes and\n",
    "saving them to a new directory in the model folder."
   ]
  },
  {
   "cell_type": "code",
   "execution_count": 9,
   "metadata": {},
   "outputs": [],
   "source": [
    "def tag_files(model_dir, testing_files, use_vabamorfcorpustagger):\n",
    "    nertagger = NerTagger(model_dir)\n",
    "    \n",
    "    print(\"(!) Tagging...\")\n",
    "    iterator = 1\n",
    "    for test_file in testing_files:\n",
    "        with open(find(test_file.replace(\".json\", \".txt\"), vallakohtufailid_location), 'r', encoding='UTF-8') as f:\n",
    "            text = f.read()\n",
    "        \n",
    "        if test_file == \"Tartu_V6nnu_Ahja_id3502_1882a.json\":\n",
    "            text = text.replace('..', '. .')\n",
    "        text = preprocess_text(Text(text))\n",
    "\n",
    "        if use_vabamorfcorpustagger or \"vabamorf\" in model_dir:\n",
    "            text.pop_layer('morph_analysis')\n",
    "            text = [text]\n",
    "            vm_corpus_tagger.tag( text )\n",
    "            text = text[0]\n",
    "        nertagger.tag(text)\n",
    "        text.add_layer(flatten(text['ner'], 'flat_ner'))\n",
    "\n",
    "        for x in removed_layers:\n",
    "            text.pop_layer(x)\n",
    "\n",
    "        path = os.path.join(model_dir, 'vallakohtufailid-trained-nertagger')\n",
    "        if not os.path.exists(path):\n",
    "            os.mkdir(path)\n",
    "            \n",
    "        text_to_json(text, file=os.path.join(model_dir, 'vallakohtufailid-trained-nertagger', test_file))\n",
    "        \n",
    "        print(f'{iterator}. Tagged file {test_file}')\n",
    "        iterator += 1\n",
    "    print('(!) Files tagged')\n"
   ]
  },
  {
   "cell_type": "code",
   "execution_count": 8,
   "metadata": {
    "scrolled": true
   },
   "outputs": [],
   "source": [
    "# Train the model by applying all necessary \n",
    "def train_model(model_directory):\n",
    "    for subdistribution in sorted(set(files.values())):\n",
    "        testing, training = get_testing_and_training_subdistribution(int(subdistribution))\n",
    "\n",
    "        # Get the filenames to be trained on from the files dictionary\n",
    "        filenames = [key for key, value in files.items() if int(value) in training]\n",
    "\n",
    "        # Create training_texts from the aforementioned filenames\n",
    "        training_texts = create_training_texts(filenames)\n",
    "\n",
    "        # Set up the trainer and training\n",
    "        new_model_dir = os.path.join('models', model_directory)\n",
    "        train_nertagger(training_texts, new_model_dir)\n",
    "\n",
    "        # Set up the new trained nertagger and defining layers to be removed later on\n",
    "        tagger = NerTagger(model_dir = new_model_dir)\n",
    "        #print(tagger.nersettings)\n",
    "        # Tag the files using the new nertagger\n",
    "        testing_files = [key for key, value in files.items() if int(value) == testing]\n",
    "        tag_files(new_model_dir, testing_files, use_vabamorfcorpustagger)\n",
    "            \n",
    "    # Get results of model\n",
    "    extract_results(model_directory, #model directory path\n",
    "                    files,\n",
    "                    no_goldstandard_annotations,\n",
    "                    os.path.join('models', model_directory, 'vallakohtufailid-trained-nertagger'), #training files location\n",
    "                    testing_files_location,\n",
    "                    os.path.join('models', model_directory)) #results.txt location\n",
    "    \n",
    "    print(f\"(!) Model {model_directory} trained\")"
   ]
  },
  {
   "cell_type": "markdown",
   "metadata": {},
   "source": [
    "NB! Make sure the values (location of the training files and location of the `results.txt` file) in the `extract_results()` function are correct as these cannot be referenced before the model directory is defined."
   ]
  },
  {
   "cell_type": "markdown",
   "metadata": {},
   "source": [
    "To train the model the `model_directory` (given to the `train_model()` function) must contain a `settings.py` file"
   ]
  },
  {
   "cell_type": "code",
   "execution_count": null,
   "metadata": {
    "scrolled": true
   },
   "outputs": [],
   "source": [
    "models = [\n",
    "    'model_default_with_vabamorftagger',\n",
    "    'model_local_features_without_morph',\n",
    "    'model_morph_without_lemmas',\n",
    "    'model_morph_with_lemmas',\n",
    "    'model_morph_with_lemmas_and_sentences',\n",
    "    'model_morph_with_lemmas_and_sentences_and_gazzetteer',\n",
    "    os.path.join('model_morph_with_lemmas_and_sentences_and_gazetteer_and_global_features', 'model_initial'),\n",
    "    os.path.join('model_morph_with_lemmas_and_sentences_and_gazetteer_and_global_features', 'model_vabamorf_gazetteer'),\n",
    "    os.path.join('model_morph_with_lemmas_and_sentences_and_gazetteer_and_global_features', 'model_vabamorf_gazetteer2'),\n",
    "    os.path.join('model_morph_with_lemmas_and_sentences_and_gazetteer_and_global_features', 'model_vabamorf_gazetteer1and2'),\n",
    "    os.path.join('model_morph_with_lemmas_and_sentences_and_gazetteer_and_global_features', 'model_gaz_loc'),\n",
    "    os.path.join('model_morph_with_lemmas_and_sentences_and_gazetteer_and_global_features', 'model_gaz_loc_variants')    \n",
    "]\n",
    "for model in models:\n",
    "    train_model(model)"
   ]
  }
 ],
 "metadata": {
  "kernelspec": {
   "display_name": "Python 3",
   "language": "python",
   "name": "python3"
  },
  "language_info": {
   "codemirror_mode": {
    "name": "ipython",
    "version": 3
   },
   "file_extension": ".py",
   "mimetype": "text/x-python",
   "name": "python",
   "nbconvert_exporter": "python",
   "pygments_lexer": "ipython3",
   "version": "3.8.10"
  }
 },
 "nbformat": 4,
 "nbformat_minor": 4
}
