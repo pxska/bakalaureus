{
 "cells": [
  {
   "cell_type": "code",
   "execution_count": 4,
   "metadata": {},
   "outputs": [],
   "source": [
    "import json\n",
    "import time\n",
    "import os\n",
    "import re\n",
    "\n",
    "from modules.preprocessing_protocols import preprocess_text\n",
    "from modules.extract_results import extract_results_to_txt_file, display_results_by_subdistribution,\\\n",
    "                                    display_results_by_named_entity, display_confusion_matrix\n",
    "from contemporary_ner_training.conll_ner_importer import conll_to_ner_labelling  \n",
    "from estnltk import Text\n",
    "from estnltk.taggers import NerTagger\n",
    "from estnltk.taggers import WordLevelNerTagger\n",
    "from estnltk.converters import text_to_json\n",
    "from estnltk.converters import json_to_text\n",
    "from estnltk.layer_operations import flatten\n",
    "\n",
    "from estnltk.taggers.estner.ner_trainer import NerTrainer\n",
    "from estnltk.taggers.estner.model_storage_util import ModelStorageUtil\n",
    "\n",
    "from estnltk.taggers import VabamorfCorpusTagger\n",
    "vm_corpus_tagger = VabamorfCorpusTagger()"
   ]
  },
  {
   "cell_type": "code",
   "execution_count": 16,
   "metadata": {},
   "outputs": [],
   "source": [
    "def find(name, path):\n",
    "    for root, dirs, files in os.walk(path):\n",
    "        if name in files:\n",
    "            return os.path.join(root, name)"
   ]
  },
  {
   "cell_type": "code",
   "execution_count": null,
   "metadata": {},
   "outputs": [],
   "source": []
  },
  {
   "cell_type": "markdown",
   "metadata": {},
   "source": [
    "These files don't work because the protocols are written in a different language, which the goldstandard didn't recognise, hence have no goldstandard tags."
   ]
  },
  {
   "cell_type": "code",
   "execution_count": 17,
   "metadata": {},
   "outputs": [],
   "source": [
    "files_not_working = ['J2rva_Tyri_V22tsa_id22177_1911a.json', \\\n",
    "                     'J2rva_Tyri_V22tsa_id18538_1894a.json', \\\n",
    "                     'J2rva_Tyri_V22tsa_id22155_1911a.json', \\\n",
    "                     'Saare_Kihelkonna_Kotlandi_id18845_1865a.json', \\\n",
    "                     'P2rnu_Halliste_Abja_id257_1844a.json', \\\n",
    "                     'Saare_Kaarma_Loona_id7575_1899a.json', \\\n",
    "                     'J2rva_Tyri_V22tsa_id22266_1913a.json', \\\n",
    "                     'J2rva_Tyri_V22tsa_id22178_1912a.json']\n",
    "'''\n",
    "models = ['model_default',\\\n",
    "          'model_local_features_without_morph',\\\n",
    "          'model_morph_without_lemmas',\\\n",
    "          'model_morph_with_lemmas',\\\n",
    "          'model_morph_with_lemmas_and_sentences',\\\n",
    "          'model_morph_with_lemmas_and_sentences_and_gazetteer',\\\n",
    "          'model_morph_with_lemmas_and_sentences_and_gazetteer_and_global_features']\n",
    "'''\n",
    "models = ['model_morph_with_lemmas_and_sentences_and_gazetteer_and_global_features']"
   ]
  },
  {
   "cell_type": "markdown",
   "metadata": {},
   "source": [
    "Flags:"
   ]
  },
  {
   "cell_type": "code",
   "execution_count": 18,
   "metadata": {},
   "outputs": [],
   "source": [
    "use_vabamorfcorpustagger = False"
   ]
  },
  {
   "cell_type": "code",
   "execution_count": 19,
   "metadata": {},
   "outputs": [],
   "source": [
    "files = {}\n",
    "\n",
    "with open(os.path.join('..', 'data', 'divided_corpus.txt'), 'r', encoding = 'UTF-8') as f:\n",
    "    txt = f.readlines()\n",
    "\n",
    "for fileName in txt:\n",
    "    file, subdistribution = fileName.split(\":\")\n",
    "    files[file] = subdistribution.rstrip(\"\\n\")"
   ]
  },
  {
   "cell_type": "code",
   "execution_count": 27,
   "metadata": {},
   "outputs": [],
   "source": [
    "texts = []\n",
    "for file in os.listdir('contemporary_ner_training'):\n",
    "    for i in range(0, 1):\n",
    "        if i > 2:\n",
    "            break\n",
    "        else:\n",
    "            if file.startswith('estner'):\n",
    "                texts.append(conll_to_ner_labelling(os.path.join('contemporary_ner_training', file), 'gold_wordner'))"
   ]
  },
  {
   "cell_type": "code",
   "execution_count": null,
   "metadata": {
    "scrolled": true
   },
   "outputs": [
    {
     "name": "stdout",
     "output_type": "stream",
     "text": [
      "Alustan NerTaggeri treenimist.\n",
      "(!) Warning: Location of the new \"settings.py\" is the same one as the old one. Model's settings are not copied.\n"
     ]
    }
   ],
   "source": [
    "for model_directory in models:\n",
    "    for subdistribution in [1, 2, 3, 4, 5]:\n",
    "        training_subdistributions = []\n",
    "        for y in [1, 2, 3, 4, 5]:\n",
    "            if y == subdistribution:\n",
    "                subdistribution_for_testing = y\n",
    "            else:\n",
    "                training_subdistributions.append(y)\n",
    "\n",
    "        # Getting the filenames to be trained on from the files dictionary.\n",
    "        #filenames = {key: value for key, value in files.items() if int(value) in training_subdistributions}\n",
    "        \n",
    "        '''\n",
    "        # Creating training_texts from the aforementioned filenames.\n",
    "        print(\"Valmistan ette treenimistekste.\")\n",
    "        start = time.time()\n",
    "        training_texts = []\n",
    "        for filename in filenames:\n",
    "            with open(os.path.join('..', 'data', 'vallakohtufailid-json-flattened', filename), 'r', encoding='UTF-8') as file:\n",
    "                if filename in files_not_working:\n",
    "                    continue\n",
    "                else:\n",
    "                    tagged_text = preprocess_text(json_to_text(file.read()))\n",
    "                    if use_vabamorfcorpustagger:\n",
    "                        tagged_text.pop_layer('morph_analysis')\n",
    "                        vm_corpus_tagger.tag([tagged_text])\n",
    "                    training_texts.append(tagged_text)\n",
    "        print(f\"Treenimistekstid ette valmistatud {time.time() - start} sekundiga.\")\n",
    "        '''\n",
    "        # Setting up the trainer and training.\n",
    "        print(\"Alustan NerTaggeri treenimist.\")\n",
    "        start = time.time()\n",
    "        \n",
    "        new_model_dir = os.path.join('models', model_directory, 'model_vabamorf_gazetteer1and2')\n",
    "        modelUtil = ModelStorageUtil( new_model_dir )\n",
    "        nersettings = modelUtil.load_settings()\n",
    "        trainer = NerTrainer(nersettings)\n",
    "        trainer.train( texts, layer='gold_wordner', model_dir=new_model_dir )\n",
    "        print(f\"NerTagger treenitud {time.time() - start} sekundiga.\")\n",
    "\n",
    "        # Setting up the new trained nertagger and defining layers to be removed later on.\n",
    "        nertagger = NerTagger(model_dir = new_model_dir)\n",
    "        removed_layers = ['sentences', 'morph_analysis', 'compound_tokens', 'ner', 'words', 'tokens']\n",
    "\n",
    "        # Tagging the files using the new nertagger.\n",
    "        print(\"\\n\\nAlustan failide märgendamist.\")\n",
    "        start = time.time()\n",
    "        testing_files = {key: value for key, value in files.items() if int(value) == subdistribution_for_testing}\n",
    "        for file in testing_files:\n",
    "            with open(find(file.replace(\".json\", \".txt\"), os.path.join('..', 'data', 'vallakohtufailid')), 'r', encoding='UTF-8') as f:\n",
    "                text = f.read()\n",
    "                if file == \"Tartu_V6nnu_Ahja_id3502_1882a.txt\":\n",
    "                    text = text.replace('..', '. .')\n",
    "                text = preprocess_text(Text(text))\n",
    "                \n",
    "                if use_vabamorfcorpustagger:\n",
    "                    text.pop_layer('morph_analysis')\n",
    "                    text = [text]\n",
    "                    vm_corpus_tagger.tag( text )\n",
    "                    text = text[0]\n",
    "                nertagger.tag(text)\n",
    "                text.add_layer(flatten(text['ner'], 'flat_ner'))\n",
    "                    \n",
    "                for x in removed_layers:\n",
    "                    text.pop_layer(x)\n",
    "                \n",
    "                text_to_json(text, file=os.path.join(new_model_dir, 'vallakohtufailid-trained-nertagger', file))\n",
    "                print(f'Märgendatud fail {file}')\n",
    "        print(f\"Failid märgendatud {time.time() - start} sekundiga.\")\n",
    "print(\"Programm on lõpetanud oma töö.\")"
   ]
  },
  {
   "cell_type": "code",
   "execution_count": null,
   "metadata": {},
   "outputs": [],
   "source": [
    "for model_directory in models:\n",
    "    extract_results_to_txt_file(model_directory, files)"
   ]
  }
 ],
 "metadata": {
  "kernelspec": {
   "display_name": "Python 3",
   "language": "python",
   "name": "python3"
  },
  "language_info": {
   "codemirror_mode": {
    "name": "ipython",
    "version": 3
   },
   "file_extension": ".py",
   "mimetype": "text/x-python",
   "name": "python",
   "nbconvert_exporter": "python",
   "pygments_lexer": "ipython3",
   "version": "3.7.9"
  }
 },
 "nbformat": 4,
 "nbformat_minor": 4
}
