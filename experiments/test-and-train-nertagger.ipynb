{
 "cells": [
  {
   "cell_type": "code",
   "execution_count": null,
   "metadata": {},
   "outputs": [],
   "source": [
    "import json\n",
    "import time\n",
    "import os\n",
    "import re\n",
    "\n",
    "from modules.preprocessing_protocols import preprocess_text\n",
    "from modules.results_extraction import extract_results_to_txt_file, display_results_by_subdistribution,\\\n",
    "                                    display_results_by_named_entity, display_confusion_matrix\n",
    "from contemporary_ner_training.conll_ner_importer import conll_to_ner_labelling  \n",
    "from estnltk import Text\n",
    "from estnltk.taggers import NerTagger\n",
    "from estnltk.taggers import WordLevelNerTagger\n",
    "from estnltk.converters import text_to_json\n",
    "from estnltk.converters import json_to_text\n",
    "from estnltk.layer_operations import flatten\n",
    "\n",
    "from estnltk.taggers.estner.ner_trainer import NerTrainer\n",
    "from estnltk.taggers.estner.model_storage_util import ModelStorageUtil\n",
    "\n",
    "from estnltk.taggers import VabamorfCorpusTagger\n",
    "vm_corpus_tagger = VabamorfCorpusTagger()"
   ]
  },
  {
   "cell_type": "code",
   "execution_count": null,
   "metadata": {},
   "outputs": [],
   "source": [
    "def find(name, path):\n",
    "    for root, dirs, files in os.walk(path):\n",
    "        if name in files:\n",
    "            return os.path.join(root, name)"
   ]
  },
  {
   "cell_type": "markdown",
   "metadata": {},
   "source": [
    "CONLL NER test:"
   ]
  },
  {
   "cell_type": "code",
   "execution_count": null,
   "metadata": {},
   "outputs": [],
   "source": [
    "'''\n",
    "texts = []\n",
    "for file in os.listdir('contemporary_ner_training'):\n",
    "    if file.startswith('estner_split_1'):\n",
    "        texts.append(conll_to_ner_labelling(os.path.join('contemporary_ner_training', file), 'gold_wordner'))               \n",
    "'''"
   ]
  },
  {
   "cell_type": "markdown",
   "metadata": {},
   "source": [
    "Flags:"
   ]
  },
  {
   "cell_type": "code",
   "execution_count": null,
   "metadata": {},
   "outputs": [],
   "source": [
    "use_vabamorfcorpustagger = False"
   ]
  },
  {
   "cell_type": "markdown",
   "metadata": {},
   "source": [
    "---"
   ]
  },
  {
   "cell_type": "code",
   "execution_count": null,
   "metadata": {},
   "outputs": [],
   "source": [
    "files = {}\n",
    "\n",
    "with open(os.path.join('..', 'data', 'divided_corpus.txt'), 'r', encoding = 'UTF-8') as f:\n",
    "    txt = f.readlines()\n",
    "\n",
    "for fileName in txt:\n",
    "    file, subdistribution = fileName.split(\":\")\n",
    "    files[file] = subdistribution.rstrip(\"\\n\")"
   ]
  },
  {
   "cell_type": "code",
   "execution_count": null,
   "metadata": {},
   "outputs": [],
   "source": [
    "def create_training_texts(filenames):\n",
    "    print(\"(!) Valmistan ette treenimistekste\")\n",
    "    \n",
    "    # These files don't work because the protocols are written in a different language,\n",
    "    # which the goldstandard didn't recognise, hence have no goldstandard tags.\n",
    "    files_not_working = ['J2rva_Tyri_V22tsa_id22177_1911a.json', \\\n",
    "                         'J2rva_Tyri_V22tsa_id18538_1894a.json', \\\n",
    "                         'J2rva_Tyri_V22tsa_id22155_1911a.json', \\\n",
    "                         'Saare_Kihelkonna_Kotlandi_id18845_1865a.json', \\\n",
    "                         'P2rnu_Halliste_Abja_id257_1844a.json', \\\n",
    "                         'Saare_Kaarma_Loona_id7575_1899a.json', \\\n",
    "                         'J2rva_Tyri_V22tsa_id22266_1913a.json', \\\n",
    "                         'J2rva_Tyri_V22tsa_id22178_1912a.json']\n",
    "    \n",
    "    start = time.time()\n",
    "    training_texts = []\n",
    "    for filename in filenames:\n",
    "        with open(os.path.join('..', 'data', 'vallakohtufailid-json-flattened', filename), 'r', encoding='UTF-8') as file:\n",
    "            if filename in files_not_working:\n",
    "                continue\n",
    "            else:\n",
    "                tagged_text = preprocess_text(json_to_text(file.read()))\n",
    "                if use_vabamorfcorpustagger:\n",
    "                    tagged_text.pop_layer('morph_analysis')\n",
    "                    vm_corpus_tagger.tag([tagged_text])\n",
    "                training_texts.append(tagged_text)\n",
    "    print(f\"(!) Treenimistekstid ette valmistatud {time.time() - start} sekundiga\")\n",
    "    return training_texts"
   ]
  },
  {
   "cell_type": "code",
   "execution_count": null,
   "metadata": {},
   "outputs": [],
   "source": [
    "def train_nertagger(training_texts, new_model_dir):\n",
    "    print(\"(!) Treenin NerTaggerit\")\n",
    "    start = time.time()\n",
    "    \n",
    "    modelUtil = ModelStorageUtil( new_model_dir )\n",
    "    nersettings = modelUtil.load_settings()\n",
    "    trainer = NerTrainer(nersettings)\n",
    "    trainer.train( training_texts, layer='gold_wordner', model_dir=new_model_dir )\n",
    "    print(f\"(!) NerTagger treenitud {time.time() - start} sekundiga\")"
   ]
  },
  {
   "cell_type": "code",
   "execution_count": null,
   "metadata": {},
   "outputs": [],
   "source": [
    "def get_testing_and_training_subdistribution(subdistribution):\n",
    "    training = []\n",
    "    for y in [1, 2, 3, 4, 5]:\n",
    "        if y == subdistribution:\n",
    "            testing = y\n",
    "        else:\n",
    "            training.append(y)\n",
    "    return testing, training"
   ]
  },
  {
   "cell_type": "code",
   "execution_count": null,
   "metadata": {},
   "outputs": [],
   "source": [
    "def tag_files(model_dir, testing_files, use_vabamorfcorpustagger):\n",
    "    removed_layers = ['sentences', 'morph_analysis', 'compound_tokens', 'ner', 'words', 'tokens']\n",
    "    nertagger = NerTagger(model_dir)\n",
    "    \n",
    "    print(\"(!) Märgendan\")\n",
    "    start = time.time()\n",
    "    iterator = 1\n",
    "    for test_file in testing_files:\n",
    "        with open(find(test_file.replace(\".json\", \".txt\"), os.path.join('..', 'data', 'vallakohtufailid')), 'r', encoding='UTF-8') as f:\n",
    "            text = f.read()\n",
    "        \n",
    "        if test_file == \"Tartu_V6nnu_Ahja_id3502_1882a.json\":\n",
    "            text = text.replace('..', '. .')\n",
    "        text = preprocess_text(Text(text))\n",
    "\n",
    "        if use_vabamorfcorpustagger or \"vabamorf\" in model_dir:\n",
    "            text.pop_layer('morph_analysis')\n",
    "            text = [text]\n",
    "            vm_corpus_tagger.tag( text )\n",
    "            text = text[0]\n",
    "        nertagger.tag(text)\n",
    "        text.add_layer(flatten(text['ner'], 'flat_ner'))\n",
    "\n",
    "        for x in removed_layers:\n",
    "            text.pop_layer(x)\n",
    "\n",
    "        path = os.path.join(model_dir, 'vallakohtufailid-trained-nertagger')\n",
    "        if not os.path.exists(path):\n",
    "            os.mkdir(path)\n",
    "            \n",
    "        text_to_json(text, file=os.path.join(model_dir, 'vallakohtufailid-trained-nertagger', test_file))\n",
    "        \n",
    "        print(f'{iterator}. Märgendatud fail {test_file}')\n",
    "        iterator += 1\n",
    "    print(f\"(!) Failid märgendatud {time.time() - start} sekundiga\")\n"
   ]
  },
  {
   "cell_type": "code",
   "execution_count": null,
   "metadata": {
    "scrolled": true
   },
   "outputs": [],
   "source": [
    "def train_model(model_directory):\n",
    "    for subdistribution in [1, 2, 3, 4, 5]:\n",
    "        testing, training = get_testing_and_training_subdistribution(subdistribution)\n",
    "\n",
    "        # Get the filenames to be trained on from the files dictionary\n",
    "        filenames = [key for key, value in files.items() if int(value) in training]\n",
    "\n",
    "        # Create training_texts from the aforementioned filenames\n",
    "        training_texts = create_training_texts(filenames)\n",
    "\n",
    "        # Set up the trainer and training\n",
    "        new_model_dir = os.path.join('models', model_directory)\n",
    "        train_nertagger(training_texts, new_model_dir)\n",
    "\n",
    "        # Set up the new trained nertagger and defining layers to be removed later on\n",
    "        tagger = NerTagger(model_dir = new_model_dir)\n",
    "        #print(tagger.nersettings)\n",
    "        # Tag the files using the new nertagger\n",
    "        testing_files = [key for key, value in files.items() if int(value) == testing]\n",
    "        tag_files(new_model_dir, testing_files, use_vabamorfcorpustagger)\n",
    "            \n",
    "    # Get results of model\n",
    "    extract_results_to_txt_file(model_directory, files)\n",
    "    \n",
    "    print(f\"(!) Mudel {model_directory} treenitud\")"
   ]
  },
  {
   "cell_type": "markdown",
   "metadata": {},
   "source": [
    "To train the model the `model_directory` must contain a `settings.py` file"
   ]
  },
  {
   "cell_type": "code",
   "execution_count": null,
   "metadata": {
    "scrolled": true
   },
   "outputs": [],
   "source": [
    "models = [\n",
    "    'model_default_with_vabamorftagger',\n",
    "    'model_local_features_without_morph',\n",
    "    'model_morph_without_lemmas',\n",
    "    'model_morph_with_lemmas',\n",
    "    'model_morph_with_lemmas_and_sentences',\n",
    "    'model_morph_with_lemmas_and_sentences_and_gazzetteer',\n",
    "    os.path.join('model_morph_with_lemmas_and_sentences_and_gazetteer_and_global_features', 'model_initial'),\n",
    "    os.path.join('model_morph_with_lemmas_and_sentences_and_gazetteer_and_global_features', 'model_vabamorf_gazetteer'),\n",
    "    os.path.join('model_morph_with_lemmas_and_sentences_and_gazetteer_and_global_features', 'model_vabamorf_gazetteer2'),\n",
    "    os.path.join('model_morph_with_lemmas_and_sentences_and_gazetteer_and_global_features', 'model_vabamorf_gazetteer1and2'),\n",
    "    os.path.join('model_morph_with_lemmas_and_sentences_and_gazetteer_and_global_features', 'model_gaz_loc'),\n",
    "    os.path.join('model_morph_with_lemmas_and_sentences_and_gazetteer_and_global_features', 'model_gaz_loc_variants')    \n",
    "]\n",
    "for model in models:\n",
    "    train_model(model)"
   ]
  },
  {
   "cell_type": "code",
   "execution_count": null,
   "metadata": {},
   "outputs": [],
   "source": [
    "all_results = extract_results_to_txt_file( model_dir, files, test_data_quantity)"
   ]
  }
 ],
 "metadata": {
  "kernelspec": {
   "display_name": "Python 3",
   "language": "python",
   "name": "python3"
  },
  "language_info": {
   "codemirror_mode": {
    "name": "ipython",
    "version": 3
   },
   "file_extension": ".py",
   "mimetype": "text/x-python",
   "name": "python",
   "nbconvert_exporter": "python",
   "pygments_lexer": "ipython3",
   "version": "3.7.9"
  }
 },
 "nbformat": 4,
 "nbformat_minor": 4
}
