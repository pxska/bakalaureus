{
 "cells": [
  {
   "cell_type": "code",
   "execution_count": 1,
   "metadata": {},
   "outputs": [],
   "source": [
    "import os\n",
    "import json\n",
    "import pandas as pd\n",
    "import numpy as np\n",
    "from modules.extract_results import display_results_by_subdistribution, display_results_by_named_entity, \\\n",
    "                                    display_confusion_matrix, extract_results_to_txt_file\n",
    "import matplotlib.pyplot as plt"
   ]
  },
  {
   "cell_type": "markdown",
   "metadata": {},
   "source": [
    "### Folders for models:"
   ]
  },
  {
   "cell_type": "markdown",
   "metadata": {},
   "source": [
    "The models in the `models` variable use these taggers:\n",
    "1. `model_default` uses NerMorphFeatureTagger, NerLocalFeatureTagger, NerSentenceFeatureTagger, NerGazetteerFeatureTagger and NerGlobalContextFeatureTagger.\n",
    "2. `model_local_features_without_morph` uses NerEmptyFeatureTagger and NerLocalFeatureWithoutMorphTagger.\n",
    "3. `model_morph_without_lemmas` uses NerEmptyFeatureTagger, NerLocalFeatureWithoutMorphTagger and NerMorphNoLemmasFeatureTagger.\n",
    "4. `model_morph_with_lemmas` uses NerEmptyFeatureTagger, NerLocalFeatureWithoutMorphTagger and NerBasicMorphFeatureTagger.\n",
    "5. `model_morph_with_lemmas_and_sentences` uses NerEmptyFeatureTagger, NerLocalFeatureWithoutMorphTagger, NerBasicMorphFeatureTagger and fex.NerSentenceFeatureTagger.\n",
    "6. `model_morph_with_lemmas_and_sentences_and_gazetteer` uses NerEmptyFeatureTagger, NerLocalFeatureWithoutMorphTagger, NerBasicMorphFeatureTagger, fex.NerSentenceFeatureTagger and fex.NerGazetteerFeatureTagger.\n",
    "7. `model_morph_with_lemmas_and_sentences_and_gazetteer_and_global_features` uses NerEmptyFeatureTagger, NerLocalFeatureWithoutMorphTagger, NerBasicMorphFeatureTagger, fex.NerSentenceFeatureTagger, fex.NerGazetteerFeatureTagger and fex.NerGlobalContextFeatureTagger."
   ]
  },
  {
   "cell_type": "code",
   "execution_count": 2,
   "metadata": {},
   "outputs": [],
   "source": [
    "models = ['model_default',\\\n",
    "          'model_local_features_without_morph',\\\n",
    "          'model_morph_without_lemmas',\\\n",
    "          'model_morph_with_lemmas',\\\n",
    "          'model_morph_with_lemmas_and_sentences',\\\n",
    "          'model_morph_with_lemmas_and_sentences_and_gazetteer',\\\n",
    "          'model_morph_with_lemmas_and_sentences_and_gazetteer_and_global_features']"
   ]
  },
  {
   "cell_type": "markdown",
   "metadata": {},
   "source": [
    "### Folders for results:"
   ]
  },
  {
   "cell_type": "markdown",
   "metadata": {},
   "source": [
    "Every model in the `models` variable contains folders with different results, here are the folders inside the model folders:\n",
    "\n",
    "1. `model_initial` contains results from the initial model\n",
    "2. `model_vabamorf` contains results using VabamorfCorpusTagger\n",
    "3. `model_vabamorf_gazetteer` contains results from using the \"vallakohtud.csv\" gazetteer\n",
    "4. `model_vabamorf_gazetteer2` contains results using the gazeetter from the .tsv file\n",
    "5. `model_vabamorf_gazetteer1and2` contains results from using both of the aforementioned gazetteers"
   ]
  },
  {
   "cell_type": "code",
   "execution_count": 3,
   "metadata": {},
   "outputs": [],
   "source": [
    "model_results = ['model_initial',\\\n",
    "                 'model_vabamorf',\\\n",
    "                 'model_vabamorf_gazetteer',\\\n",
    "                 'model_vabamorf_gazetteer2',\\\n",
    "                 'model_vabamorf_gazetteer1and2',\\\n",
    "                 'model_gazetteer_both_new']"
   ]
  },
  {
   "cell_type": "code",
   "execution_count": 4,
   "metadata": {},
   "outputs": [],
   "source": [
    "def get_results_from_directory(model_directory, directory_for_results):\n",
    "    try:\n",
    "        with open(os.path.join('models', model_directory, directory_for_results, 'results.txt')) as file:\n",
    "            results_json = json.loads(file.read())\n",
    "            return display_results_by_subdistribution(results_json)[\"Total\"], display_results_by_named_entity(results_json)[\"Total\"]\n",
    "    except FileNotFoundError:\n",
    "        print(f\"(!) Mudelil {model_directory} puuduvad tulemused kaustas {directory_for_results}.\")\n",
    "        return {}, {}"
   ]
  },
  {
   "cell_type": "code",
   "execution_count": 9,
   "metadata": {
    "scrolled": true
   },
   "outputs": [],
   "source": [
    "totals_by_subdistribution = {}\n",
    "totals_by_named_entity = {}\n",
    "\n",
    "model = 'model_morph_with_lemmas_and_sentences_and_gazetteer_and_global_features'\n",
    "results = 'model_gazetteer_both_new'\n",
    "\n",
    "by_subdistribution, by_named_entity = get_results_from_directory(model, results)\n",
    "totals_by_subdistribution[model + \",\" + str(results)] = by_subdistribution\n",
    "totals_by_named_entity[model + \",\" + str(results)] = by_named_entity"
   ]
  },
  {
   "cell_type": "markdown",
   "metadata": {},
   "source": [
    "# Total values by model:"
   ]
  },
  {
   "cell_type": "code",
   "execution_count": 8,
   "metadata": {
    "scrolled": false
   },
   "outputs": [
    {
     "data": {
      "text/html": [
       "<div>\n",
       "<style scoped>\n",
       "    .dataframe tbody tr th:only-of-type {\n",
       "        vertical-align: middle;\n",
       "    }\n",
       "\n",
       "    .dataframe tbody tr th {\n",
       "        vertical-align: top;\n",
       "    }\n",
       "\n",
       "    .dataframe thead th {\n",
       "        text-align: right;\n",
       "    }\n",
       "</style>\n",
       "<table border=\"1\" class=\"dataframe\">\n",
       "  <thead>\n",
       "    <tr style=\"text-align: right;\">\n",
       "      <th></th>\n",
       "      <th>model_morph_with_lemmas_and_sentences_and_gazetteer_and_global_features,model_gazetteer_both_new</th>\n",
       "    </tr>\n",
       "  </thead>\n",
       "  <tbody>\n",
       "    <tr>\n",
       "      <th>Precision</th>\n",
       "      <td>0.902924</td>\n",
       "    </tr>\n",
       "    <tr>\n",
       "      <th>Recall</th>\n",
       "      <td>0.870606</td>\n",
       "    </tr>\n",
       "    <tr>\n",
       "      <th>F1-score</th>\n",
       "      <td>0.886471</td>\n",
       "    </tr>\n",
       "  </tbody>\n",
       "</table>\n",
       "</div>"
      ],
      "text/plain": [
       "           model_morph_with_lemmas_and_sentences_and_gazetteer_and_global_features,model_gazetteer_both_new\n",
       "Precision                                                                                          0.902924\n",
       "Recall                                                                                             0.870606\n",
       "F1-score                                                                                           0.886471"
      ]
     },
     "metadata": {},
     "output_type": "display_data"
    }
   ],
   "source": [
    "display(pd.DataFrame(totals_by_subdistribution, index=[\"Precision\", \"Recall\", \"F1-score\"]))"
   ]
  },
  {
   "cell_type": "markdown",
   "metadata": {},
   "source": [
    "# Total values by named entity:"
   ]
  },
  {
   "cell_type": "code",
   "execution_count": null,
   "metadata": {
    "scrolled": false
   },
   "outputs": [],
   "source": [
    "format_vertical_headers(pd.DataFrame(totals_by_named_entity))"
   ]
  },
  {
   "cell_type": "markdown",
   "metadata": {},
   "source": [
    "# Compare models:\n",
    "Which models would you like to compare?"
   ]
  },
  {
   "cell_type": "code",
   "execution_count": null,
   "metadata": {},
   "outputs": [],
   "source": [
    "old = 'model_default,model_initial'\n",
    "new = 'model_default,model_vabamorf'\n",
    "\n",
    "#Enter models as 'model_name,results_folder'\n",
    "#E.g. model_default,model_initial"
   ]
  },
  {
   "cell_type": "code",
   "execution_count": null,
   "metadata": {},
   "outputs": [],
   "source": [
    "old_by_subdistribution = totals_by_subdistribution[old]\n",
    "new_by_subdistribution = totals_by_subdistribution[new]"
   ]
  },
  {
   "cell_type": "code",
   "execution_count": null,
   "metadata": {},
   "outputs": [],
   "source": [
    "print(new_by_subdistribution - old_by_subdistribution)"
   ]
  },
  {
   "cell_type": "markdown",
   "metadata": {},
   "source": [
    "# All models:"
   ]
  },
  {
   "cell_type": "markdown",
   "metadata": {},
   "source": [
    "Define the model which results you'd like to see:"
   ]
  },
  {
   "cell_type": "code",
   "execution_count": null,
   "metadata": {},
   "outputs": [],
   "source": [
    "print([model for model in models])"
   ]
  },
  {
   "cell_type": "code",
   "execution_count": null,
   "metadata": {
    "scrolled": true
   },
   "outputs": [],
   "source": [
    "print([results for results in model_results])"
   ]
  },
  {
   "cell_type": "code",
   "execution_count": null,
   "metadata": {},
   "outputs": [],
   "source": [
    "model_name = 'model_default'\n",
    "results_name = 'model_vabamorf_gazetteer'"
   ]
  },
  {
   "cell_type": "code",
   "execution_count": null,
   "metadata": {
    "scrolled": false
   },
   "outputs": [],
   "source": [
    "with open(os.path.join('models', model_name, results_name, 'results.txt')) as file:\n",
    "    results_json = json.loads(file.read())\n",
    "    display(display_results_by_subdistribution(results_json))\n",
    "    display(pd.DataFrame(display_results_by_named_entity(results_json)))"
   ]
  }
 ],
 "metadata": {
  "kernelspec": {
   "display_name": "Python 3",
   "language": "python",
   "name": "python3"
  },
  "language_info": {
   "codemirror_mode": {
    "name": "ipython",
    "version": 3
   },
   "file_extension": ".py",
   "mimetype": "text/x-python",
   "name": "python",
   "nbconvert_exporter": "python",
   "pygments_lexer": "ipython3",
   "version": "3.7.9"
  }
 },
 "nbformat": 4,
 "nbformat_minor": 4
}
