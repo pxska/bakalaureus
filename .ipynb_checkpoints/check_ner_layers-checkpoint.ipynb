{
 "cells": [
  {
   "cell_type": "code",
   "execution_count": 1,
   "metadata": {},
   "outputs": [],
   "source": [
    "import os\n",
    "import re\n",
    "\n",
    "from estnltk import EnvelopingBaseSpan\n",
    "from estnltk import Text, Layer, Annotation, EnvelopingSpan, Span\n",
    "from estnltk.converters import json_to_text\n",
    "from estnltk.layer_operations import extract_sections"
   ]
  },
  {
   "cell_type": "code",
   "execution_count": 2,
   "metadata": {},
   "outputs": [],
   "source": [
    "file = \"Tartu_Laiuse_Kivij2rve_id13164_1866a\"\n",
    "#\n",
    "#Harju_Keila_Saue_id13436_1885a\n",
    "with open(\"vallakohus_neljas/\" + str(file) + \".txt\", \"r\", encoding=\"utf-8\") as txt:\n",
    "    text = txt.read()\n",
    "with open(\"vallakohtufailid_json/\" + str(file) + \".json\", \"r\", encoding=\"utf-8\") as json:\n",
    "    imported = json_to_text(json.read())"
   ]
  },
  {
   "cell_type": "code",
   "execution_count": 3,
   "metadata": {
    "scrolled": true
   },
   "outputs": [
    {
     "name": "stdout",
     "output_type": "stream",
     "text": [
      "('Isik', '179', '189', 'Jürri Kogi', 'T1')\n",
      "('Isik', '232', '243', 'Rein Lopach', 'T2')\n",
      "('Isik', '270', '282', 'Rein Wellein', 'T3')\n",
      "('Isik', '307', '322', 'Josep Lorentson', 'T4')\n",
      "('Isik', '366', '377', 'Karel Tächt', 'T5')\n",
      "('Isik', '421', '429', 'Tiit Kuk', 'T6')\n",
      "('Isik', '470', '488', 'Thomas Peterson', 'T7')\n",
      "('Isik', '536', '548', 'Johann Karro', 'T8')\n",
      "('Isik', '563', '573', 'Jaan Tächt', 'T9')\n",
      "('Isik', '588', '599', 'Jaan Blauet', 'T10')\n",
      "('Isik', '614', '626', 'Hindrik Lepp', 'T11')\n",
      "('Isik', '641', '653', 'Rein Wellein', 'T12')\n",
      "('Isik', '666', '676', 'Jürri Palm', 'T13')\n",
      "('Isik', '689', '700', 'Karel Tächt', 'T14')\n",
      "('Isik', '714', '722', 'Tiit Kuk', 'T15')\n",
      "('KO_koht', '805', '811', 'Annuse', 'T16')\n",
      "('Isik', '812', '820', 'Adam Puk', 'T17')\n",
      "('Isik', '859', '869', 'Peter Palm', 'T18')\n",
      "('Isik', '884', '893', 'Jaan Saar', 'T19')\n",
      "('Isik', '976', '987', 'Mart Niggul', 'T20')\n",
      "('Isik', '1008', '1019', 'Jürri Tächt', 'T21')\n",
      "('Isik', '1037', '1048', 'Jürri Ustaw', 'T22')\n",
      "('Isik', '1066', '1076', 'Peter Palm', 'T23')\n"
     ]
    }
   ],
   "source": [
    "indexes_on_line_split = re.compile(r' (\\d+) (\\d+;\\d+ ){1,}(\\d+)$')\n",
    "\n",
    "def collect_annotations( in_f ):\n",
    "    annotations = []\n",
    "    split_lines_ahead = 0\n",
    "    for line in in_f:\n",
    "        line = line.rstrip('\\n')\n",
    "        items = line.split('\\t')\n",
    "        if split_lines_ahead > 0:\n",
    "            split_lines_ahead -= 1\n",
    "            last_item = annotations[-1]\n",
    "            new_tuple = (last_item[0],last_item[1],last_item[2],(last_item[3]+line),last_item[4])\n",
    "            annotations[-1] = new_tuple\n",
    "            continue\n",
    "        if len(items) == 3:\n",
    "            indexes_str = items[1]\n",
    "            if indexes_str.count(';') > 0:\n",
    "                split_lines_ahead += indexes_str.count(';')\n",
    "            indexes_str = indexes_on_line_split.sub(' \\\\1 \\\\3', indexes_str)\n",
    "            tag, start, end = indexes_str.split()\n",
    "            annotations.append( (tag, start, end, re.sub(r'\\s\\s+', r' ', items[2]).strip(), items[0]) )\n",
    "    seen = set()\n",
    "    removed_duplicates_annotations = []\n",
    "    for a, b, c, d, e in annotations:\n",
    "        if not b in seen:\n",
    "            seen.add(b)\n",
    "            removed_duplicates_annotations.append((a, b, c, d, e))\n",
    "        else:\n",
    "            for index, item in enumerate(removed_duplicates_annotations):\n",
    "                if item[1] == b and item[2] > c:\n",
    "                    tuple_without_n = (a, b, c, d, e)\n",
    "                    item = tuple_without_n\n",
    "                    removed_duplicates_annotations[index] = item\n",
    "                elif item[1] == b and item[2] < c:\n",
    "                    tuple_without_n = (a, b, item[2], d, e)\n",
    "                    item = tuple_without_n\n",
    "                    removed_duplicates_annotations[index] = item\n",
    "                else:\n",
    "                    continue\n",
    "    \n",
    "    for index, item in enumerate(removed_duplicates_annotations):\n",
    "        if \"\\xa0\" in item[3]:\n",
    "            replaced = re.sub(r'\\s\\s+', r' ', item[3].replace(u'\\xa0', u' '))\n",
    "            print(\"replaced:\",replaced)\n",
    "            removed_duplicates_annotations[index] = ( item[0], item[1], item[2], replaced, item[4] )\n",
    "        \n",
    "    \n",
    "    annotations = sorted(list(set(removed_duplicates_annotations)), key=lambda x: int(x[1]))\n",
    "    return annotations\n",
    "\n",
    "with open(\"vallakohus_neljas/\" + str(file) + \".ann\", \"r\", encoding=\"utf-8\") as ann:\n",
    "    ann = collect_annotations(ann)\n",
    "    for annotation in ann:\n",
    "        print(annotation)"
   ]
  },
  {
   "cell_type": "code",
   "execution_count": 4,
   "metadata": {},
   "outputs": [
    {
     "data": {
      "text/html": [
       "<h4>Layer</h4>\n",
       "\n",
       "\n",
       "<table border=\"1\" class=\"dataframe\">\n",
       "  <thead>\n",
       "    <tr style=\"text-align: right;\">\n",
       "      <th>layer name</th>\n",
       "      <th>attributes</th>\n",
       "      <th>parent</th>\n",
       "      <th>enveloping</th>\n",
       "      <th>ambiguous</th>\n",
       "      <th>span count</th>\n",
       "    </tr>\n",
       "  </thead>\n",
       "  <tbody>\n",
       "    <tr>\n",
       "      <td>gold_ner</td>\n",
       "      <td>nertag</td>\n",
       "      <td>None</td>\n",
       "      <td>None</td>\n",
       "      <td>False</td>\n",
       "      <td>22</td>\n",
       "    </tr>\n",
       "  </tbody>\n",
       "</table>\n",
       "<table border=\"1\" class=\"dataframe\">\n",
       "  <thead>\n",
       "    <tr style=\"text-align: right;\">\n",
       "      <th>text</th>\n",
       "      <th>nertag</th>\n",
       "    </tr>\n",
       "  </thead>\n",
       "  <tbody>\n",
       "    <tr>\n",
       "      <td>['Jürri', 'Kogi']</td>\n",
       "      <td>PER</td>\n",
       "    </tr>\n",
       "    <tr>\n",
       "      <td>['Rein', 'Lopach']</td>\n",
       "      <td>PER</td>\n",
       "    </tr>\n",
       "    <tr>\n",
       "      <td>['Rein', 'Wellein']</td>\n",
       "      <td>PER</td>\n",
       "    </tr>\n",
       "    <tr>\n",
       "      <td>['Josep', 'Lorentson']</td>\n",
       "      <td>PER</td>\n",
       "    </tr>\n",
       "    <tr>\n",
       "      <td>['Karel', 'Tächt']</td>\n",
       "      <td>PER</td>\n",
       "    </tr>\n",
       "    <tr>\n",
       "      <td>['Tiit', 'Kuk']</td>\n",
       "      <td>PER</td>\n",
       "    </tr>\n",
       "    <tr>\n",
       "      <td>['Johann', 'Karro']</td>\n",
       "      <td>PER</td>\n",
       "    </tr>\n",
       "    <tr>\n",
       "      <td>['Jaan', 'Tächt']</td>\n",
       "      <td>PER</td>\n",
       "    </tr>\n",
       "    <tr>\n",
       "      <td>['Jaan', 'Blauet']</td>\n",
       "      <td>PER</td>\n",
       "    </tr>\n",
       "    <tr>\n",
       "      <td>['Hindrik', 'Lepp']</td>\n",
       "      <td>PER</td>\n",
       "    </tr>\n",
       "    <tr>\n",
       "      <td>['Rein', 'Wellein']</td>\n",
       "      <td>PER</td>\n",
       "    </tr>\n",
       "    <tr>\n",
       "      <td>['Jürri', 'Palm']</td>\n",
       "      <td>PER</td>\n",
       "    </tr>\n",
       "    <tr>\n",
       "      <td>['Karel', 'Tächt']</td>\n",
       "      <td>PER</td>\n",
       "    </tr>\n",
       "    <tr>\n",
       "      <td>['Tiit', 'Kuk']</td>\n",
       "      <td>PER</td>\n",
       "    </tr>\n",
       "    <tr>\n",
       "      <td>['Annuse']</td>\n",
       "      <td>LOC_ORG</td>\n",
       "    </tr>\n",
       "    <tr>\n",
       "      <td>['Adam', 'Puk']</td>\n",
       "      <td>PER</td>\n",
       "    </tr>\n",
       "    <tr>\n",
       "      <td>['Peter', 'Palm']</td>\n",
       "      <td>PER</td>\n",
       "    </tr>\n",
       "    <tr>\n",
       "      <td>['Jaan', 'Saar']</td>\n",
       "      <td>PER</td>\n",
       "    </tr>\n",
       "    <tr>\n",
       "      <td>['Mart', 'Niggul']</td>\n",
       "      <td>PER</td>\n",
       "    </tr>\n",
       "    <tr>\n",
       "      <td>['Jürri', 'Tächt']</td>\n",
       "      <td>PER</td>\n",
       "    </tr>\n",
       "    <tr>\n",
       "      <td>['Jürri', 'Ustaw']</td>\n",
       "      <td>PER</td>\n",
       "    </tr>\n",
       "    <tr>\n",
       "      <td>['Peter', 'Palm']</td>\n",
       "      <td>PER</td>\n",
       "    </tr>\n",
       "  </tbody>\n",
       "</table>"
      ],
      "text/plain": [
       "Layer(name='gold_ner', attributes=('nertag',), spans=SL[Span(['Jürri', 'Kogi'], [{'nertag': 'PER'}]),\n",
       "Span(['Rein', 'Lopach'], [{'nertag': 'PER'}]),\n",
       "Span(['Rein', 'Wellein'], [{'nertag': 'PER'}]),\n",
       "Span(['Josep', 'Lorentson'], [{'nertag': 'PER'}]),\n",
       "Span(['Karel', 'Tächt'], [{'nertag': 'PER'}]),\n",
       "Span(['Tiit', 'Kuk'], [{'nertag': 'PER'}]),\n",
       "Span(['Johann', 'Karro'], [{'nertag': 'PER'}]),\n",
       "Span(['Jaan', 'Tächt'], [{'nertag': 'PER'}]),\n",
       "Span(['Jaan', 'Blauet'], [{'nertag': 'PER'}]),\n",
       "Span(['Hindrik', 'Lepp'], [{'nertag': 'PER'}]),\n",
       "Span(['Rein', 'Wellein'], [{'nertag': 'PER'}]),\n",
       "Span(['Jürri', 'Palm'], [{'nertag': 'PER'}]),\n",
       "Span(['Karel', 'Tächt'], [{'nertag': 'PER'}]),\n",
       "Span(['Tiit', 'Kuk'], [{'nertag': 'PER'}]),\n",
       "Span(['Annuse'], [{'nertag': 'LOC_ORG'}]),\n",
       "Span(['Adam', 'Puk'], [{'nertag': 'PER'}]),\n",
       "Span(['Peter', 'Palm'], [{'nertag': 'PER'}]),\n",
       "Span(['Jaan', 'Saar'], [{'nertag': 'PER'}]),\n",
       "Span(['Mart', 'Niggul'], [{'nertag': 'PER'}]),\n",
       "Span(['Jürri', 'Tächt'], [{'nertag': 'PER'}]),\n",
       "Span(['Jürri', 'Ustaw'], [{'nertag': 'PER'}]),\n",
       "Span(['Peter', 'Palm'], [{'nertag': 'PER'}])])"
      ]
     },
     "execution_count": 4,
     "metadata": {},
     "output_type": "execute_result"
    }
   ],
   "source": [
    "imported.gold_ner"
   ]
  },
  {
   "cell_type": "code",
   "execution_count": 5,
   "metadata": {},
   "outputs": [
    {
     "name": "stdout",
     "output_type": "stream",
     "text": [
      "15\n",
      "0\n"
     ]
    }
   ],
   "source": [
    "#470, 488, #458, 473\n",
    "print(imported.text[:458].count(\"\\n\"))\n",
    "#470 - 15 = 455\n",
    "#488 - 15 = 473"
   ]
  },
  {
   "cell_type": "code",
   "execution_count": 11,
   "metadata": {},
   "outputs": [
    {
     "data": {
      "text/plain": [
       "'Thomas Peterson'"
      ]
     },
     "execution_count": 11,
     "metadata": {},
     "output_type": "execute_result"
    }
   ],
   "source": [
    "imported.text[458:473]"
   ]
  },
  {
   "cell_type": "code",
   "execution_count": 10,
   "metadata": {},
   "outputs": [
    {
     "data": {
      "text/plain": [
       "'\\nTännasel päwal said koggokonnaliikmed koggokonna ammeti meiste wallitsemisse pärrast kokko talletud ja said siis wallitsetud ees seidjaks wallitsetud:\\n\\nMoisa sullaste hulgast Jürri Kogi\\n\\n\\xa0 \\xa0 \\xa0 \\xa0 \\xa0 \\xa0 \\xa0 \"\\xa0 \\xa0 \\xa0 \\xa0 \\xa0 \\xa0 \\xa0 \\xa0 \\xa0 \\xa0 \\xa0 \\xa0 Rein Lopach\\n\\nTallo sullaste hulgast Rein Wellein\\n\\nWabbadikkude hulgast Josep Lorentson\\n\\n\\xa0 \\xa0 \\xa0 \\xa0 \\xa0 \\xa0 \"\\xa0 \\xa0 \\xa0 \\xa0 \\xa0 \\xa0 \\xa0 \\xa0 \\xa0 \\xa0 \\xa0 \\xa0 \\xa0 \\xa0Karel Tächt\\n\\n\\xa0 \\xa0 \\xa0 \\xa0 \\xa0 \\xa0 \"\\xa0 \\xa0 \\xa0 \\xa0 \\xa0 \\xa0 \\xa0 \\xa0 \\xa0 \\xa0 \\xa0 \\xa0 \\xa0 \\xa0Tiit Kuk\\n\\n\\xa0 \\xa0 \\xa0 \\xa0 \\xa0 \\xa0 \"\\xa0 \\xa0 \\xa0 \\xa0 \\xa0 \\xa0 \\xa0 \\xa0 \\xa0 \\xa0 \\xa0 \\xa0 \\xa0 \\xa0Thomas Peterson\\n\\nKoggokonna nõumeisteks said wallitsetud:\\n\\nJohann Karro perremees.\\n\\nJaan Tächt perremees.\\n\\nJaan Blauet perremees.\\n\\nHindrik Lepp perremees.\\n\\nRein Wellein sullane.\\n\\nJürri Palm sullane.\\n\\nKarel Tächt wabbadik.\\n\\nTiit Kuk wabbadik.\\n\\nWalla wannemaks wallitsesid keik walla perremehed ja nõumeiste selts Annuse\\xa0Adam Puk.\\n\\nWalla wöölmöndrik sai wallitsetud Peter Palm. temma abbiks Jaan Saar.\\n\\nPalka arwas koggokond walla wannemalle 15 Rubl. hob wöölmonderile 10 Rubl.\\n\\nMart Niggul\\xa0peakohtomees XXX\\n\\nJürri Tächt kohtomees XXX\\n\\nJürri Ustaw kohtomees XXX\\n\\nPeter Palm wöölmönder XXX\\n\\n\\n'"
      ]
     },
     "execution_count": 10,
     "metadata": {},
     "output_type": "execute_result"
    }
   ],
   "source": [
    "text"
   ]
  }
 ],
 "metadata": {
  "kernelspec": {
   "display_name": "Python 3",
   "language": "python",
   "name": "python3"
  },
  "language_info": {
   "codemirror_mode": {
    "name": "ipython",
    "version": 3
   },
   "file_extension": ".py",
   "mimetype": "text/x-python",
   "name": "python",
   "nbconvert_exporter": "python",
   "pygments_lexer": "ipython3",
   "version": "3.7.9"
  }
 },
 "nbformat": 4,
 "nbformat_minor": 4
}
