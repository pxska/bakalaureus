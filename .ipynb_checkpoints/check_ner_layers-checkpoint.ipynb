{
 "cells": [
  {
   "cell_type": "code",
   "execution_count": 15,
   "metadata": {},
   "outputs": [],
   "source": [
    "import os\n",
    "import re\n",
    "import json\n",
    "\n",
    "from estnltk import EnvelopingBaseSpan\n",
    "from estnltk import Text, Layer, Annotation, EnvelopingSpan, Span\n",
    "from estnltk.converters import json_to_text\n",
    "from estnltk.layer_operations import extract_sections"
   ]
  },
  {
   "cell_type": "code",
   "execution_count": 37,
   "metadata": {},
   "outputs": [
    {
     "name": "stdout",
     "output_type": "stream",
     "text": [
      "Total annotations: 27540\n",
      "Annotations by NE type:\n",
      "83.97% 23126 Isik\n",
      "9.923% 2733 KO_Koht\n",
      "3.660% 1008 Koht\n",
      "1.521% 419 Org\n",
      "0.922% 254 Muu, teadmata, ese\n"
     ]
    }
   ],
   "source": [
    "all_annotations = []\n",
    "\n",
    "for file in os.listdir(os.getcwd() + \"/vallakohtufailid_json/\"):\n",
    "    if file.endswith(\".json\"):\n",
    "        with open(os.getcwd() + \"/vallakohtufailid_json/\" + file, 'r', encoding=\"UTF-8)\") as f:\n",
    "            data = json.load(f)\n",
    "            for dictionary in data.get('layers')[0].get('spans'):\n",
    "                all_annotations.append(dictionary.get('annotations')[0].get('nertag'))\n",
    "                \n",
    "print(\"Total annotations:\", len(all_annotations))\n",
    "\n",
    "print(\"Annotations by NE type:\")\n",
    "\n",
    "print( str((all_annotations.count(\"PER\") / len(all_annotations)) * 100)[0:5] + \"%\", all_annotations.count(\"PER\"), \"Isik\")\n",
    "print( str((all_annotations.count(\"LOC_ORG\") / len(all_annotations)) * 100)[0:5] + \"%\", all_annotations.count(\"LOC_ORG\"), \"KO_Koht\")\n",
    "print( str((all_annotations.count(\"LOC\") / len(all_annotations)) * 100)[0:5] + \"%\", all_annotations.count(\"LOC\"), \"Koht\")\n",
    "print( str((all_annotations.count(\"ORG\") / len(all_annotations)) * 100)[0:5] + \"%\", all_annotations.count(\"ORG\"), \"Org\")\n",
    "print( str((all_annotations.count(\"MISC\") / len(all_annotations)) * 100)[0:5] + \"%\", all_annotations.count(\"MISC\"), \"Muu, teadmata, ese\")"
   ]
  }
 ],
 "metadata": {
  "kernelspec": {
   "display_name": "Python 3",
   "language": "python",
   "name": "python3"
  },
  "language_info": {
   "codemirror_mode": {
    "name": "ipython",
    "version": 3
   },
   "file_extension": ".py",
   "mimetype": "text/x-python",
   "name": "python",
   "nbconvert_exporter": "python",
   "pygments_lexer": "ipython3",
   "version": "3.7.9"
  }
 },
 "nbformat": 4,
 "nbformat_minor": 4
}
