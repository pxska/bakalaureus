{
 "cells": [
  {
   "cell_type": "code",
   "execution_count": 4,
   "metadata": {},
   "outputs": [],
   "source": [
    "import os\n",
    "import json"
   ]
  },
  {
   "cell_type": "code",
   "execution_count": 5,
   "metadata": {},
   "outputs": [
    {
     "name": "stdout",
     "output_type": "stream",
     "text": [
      "Total annotations: 27540\n",
      "Annotations by NE type:\n",
      "83.97% Isik\n",
      "9.92% KO_Koht\n",
      "3.66% Koht\n",
      "1.52% Org\n",
      "0.92% Muu, teadamata, ese\n"
     ]
    }
   ],
   "source": [
    "all_annotations = []\n",
    "\n",
    "for file in os.listdir(os.getcwd() + \"/vallakohtufailid_json/\"):\n",
    "    if file.endswith(\".json\"):\n",
    "        with open(os.getcwd() + \"/vallakohtufailid_json/\" + file, 'r', encoding=\"UTF-8)\") as f:\n",
    "            data = json.load(f)\n",
    "            for dictionary in data.get('layers')[0].get('spans'):\n",
    "                all_annotations.append(dictionary.get('annotations')[0].get('nertag'))\n",
    "                \n",
    "print(\"Total annotations:\", len(all_annotations))\n",
    "\n",
    "print(\"Annotations by NE type:\")\n",
    "per = round(((all_annotations.count(\"PER\") / len(all_annotations)) * 100), 2)\n",
    "loc_org = round(((all_annotations.count(\"LOC_ORG\") / len(all_annotations)) * 100), 2)\n",
    "loc = round(((all_annotations.count(\"LOC\") / len(all_annotations)) * 100), 2)\n",
    "org = round(((all_annotations.count(\"ORG\") / len(all_annotations)) * 100), 2)\n",
    "misc = round(((all_annotations.count(\"MISC\") / len(all_annotations)) * 100), 2)\n",
    "\n",
    "print(str(per) + \"%\", \"Isik\\n\" + str(loc_org) + \"%\", \"KO_Koht\\n\" + str(loc) + \"%\", \"Koht\\n\" + str(org) + \"%\", \"Org\\n\" + str(misc) + \"%\", \"Muu, teadamata, ese\")"
   ]
  }
 ],
 "metadata": {
  "kernelspec": {
   "display_name": "Python 3",
   "language": "python",
   "name": "python3"
  },
  "language_info": {
   "codemirror_mode": {
    "name": "ipython",
    "version": 3
   },
   "file_extension": ".py",
   "mimetype": "text/x-python",
   "name": "python",
   "nbconvert_exporter": "python",
   "pygments_lexer": "ipython3",
   "version": "3.7.9"
  }
 },
 "nbformat": 4,
 "nbformat_minor": 4
}
