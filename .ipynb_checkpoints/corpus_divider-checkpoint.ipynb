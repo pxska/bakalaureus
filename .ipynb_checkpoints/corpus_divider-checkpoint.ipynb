{
 "cells": [
  {
   "cell_type": "code",
   "execution_count": 56,
   "metadata": {},
   "outputs": [],
   "source": [
    "import json"
   ]
  },
  {
   "cell_type": "code",
   "execution_count": 81,
   "metadata": {},
   "outputs": [
    {
     "name": "stdout",
     "output_type": "stream",
     "text": [
      "{'PER': 0.78, 'LOC_ORG': 0.11, 'ORG': 0.05, 'LOC': 0.03, 'MISC': 0.02}\n"
     ]
    }
   ],
   "source": [
    "def corpus_divider(file_names):\n",
    "    statistics = dict()\n",
    "    for file in file_names:\n",
    "        ner_annotations = list()\n",
    "        with open(\"vallakohtufailid_json/\" + file, 'r', encoding=\"UTF-8)\") as f:\n",
    "            data = json.load(f)\n",
    "            for dictionary in data.get('layers')[0].get('spans'):\n",
    "                ner_annotations.append(dictionary.get('annotations')[0].get('nertag'))\n",
    "\n",
    "        statistics_for_file = dict()\n",
    "        for annotation in set(ner_annotations):\n",
    "            statistics_for_file[str(annotation)] = ner_annotations.count(annotation)\n",
    "        statistics[file] = statistics_for_file\n",
    "\n",
    "    return statistics\n",
    "\n",
    "def calculate_proportions(file_names):\n",
    "    statistics = corpus_divider(file_names)\n",
    "    all_annotations = list()\n",
    "    for item in statistics.values():\n",
    "        for key in item:\n",
    "            appendable = key\n",
    "            for i in range(0, item[key] + 1):\n",
    "                all_annotations.append(appendable)\n",
    "    \n",
    "    proportions = dict()\n",
    "    for file in statistics:\n",
    "        for key in statistics[file].keys():\n",
    "            proportion = all_annotations.count(key) / len(all_annotations)\n",
    "            proportions[key] = round(proportion, 2)\n",
    "        \n",
    "    return proportions\n",
    "    \n",
    "#TODO: def calculate_score(file_names): \n",
    "#TODO: def generate_random_division(file_names):\n",
    "\n",
    "names = ['Harju_Hageri_Kohila_id2805_1882a.json', 'Harju_Rapla_Rapla_id18416_1868a.json',\\\n",
    "        'L22ne_Martna_Martna_id17524_1871a.json', 'P2rnu_Audru_V6lla_id5904_1878a.json']\n",
    "\n",
    "print(calculate_proportions(names))"
   ]
  }
 ],
 "metadata": {
  "kernelspec": {
   "display_name": "Python 3",
   "language": "python",
   "name": "python3"
  },
  "language_info": {
   "codemirror_mode": {
    "name": "ipython",
    "version": 3
   },
   "file_extension": ".py",
   "mimetype": "text/x-python",
   "name": "python",
   "nbconvert_exporter": "python",
   "pygments_lexer": "ipython3",
   "version": "3.7.9"
  }
 },
 "nbformat": 4,
 "nbformat_minor": 4
}
