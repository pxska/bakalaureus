{
 "cells": [
  {
   "cell_type": "code",
   "execution_count": 1,
   "metadata": {},
   "outputs": [],
   "source": [
    "import os\n",
    "import json"
   ]
  },
  {
   "cell_type": "code",
   "execution_count": 6,
   "metadata": {},
   "outputs": [
    {
     "name": "stdout",
     "output_type": "stream",
     "text": [
      "Total annotations: 27540\n",
      "Annotations by NE type:\n",
      "27540\n",
      "83.97240377632535 9.923747276688454 3.6601307189542487 1.521423384168482 0.9222948438634714\n",
      "83.97240377632535% Isik\n",
      "9.923747276688454% KO_Koht\n",
      "3.6601307189542487% Koht\n",
      "1.521423384168482% Org\n",
      "0.9222948438634714% Muu, teadamata, ese\n"
     ]
    }
   ],
   "source": [
    "all_annotations = []\n",
    "\n",
    "for file in os.listdir(\"vallakohtufailid_json/\"):\n",
    "    if file.endswith(\".json\"):\n",
    "        with open(os.getcwd() + \"/vallakohtufailid_json/\" + file, 'r', encoding=\"UTF-8)\") as f:\n",
    "            data = json.load(f)\n",
    "            for dictionary in data.get('layers')[0].get('spans'):\n",
    "                all_annotations.append(dictionary.get('annotations')[0].get('nertag'))\n",
    "                \n",
    "print(\"Total annotations:\", len(all_annotations))\n",
    "\n",
    "print(\"Annotations by NE type:\")\n",
    "print(len(all_annotations))\n",
    "per = all_annotations.count(\"PER\") / len(all_annotations) * 100\n",
    "loc_org = all_annotations.count(\"LOC_ORG\") / len(all_annotations) * 100\n",
    "loc = all_annotations.count(\"LOC\") / len(all_annotations) * 100\n",
    "org = all_annotations.count(\"ORG\") / len(all_annotations) * 100\n",
    "misc = all_annotations.count(\"MISC\") / len(all_annotations) * 100\n",
    "\n",
    "print(per, loc_org, loc, org, misc)\n",
    "\n",
    "print(str(per) + \"%\", \"Isik\\n\" + str(loc_org) + \"%\", \"KO_Koht\\n\" + str(loc) + \"%\", \"Koht\\n\" + str(org) + \"%\", \"Org\\n\" + str(misc) + \"%\", \"Muu, teadamata, ese\")"
   ]
  }
 ],
 "metadata": {
  "kernelspec": {
   "display_name": "Python 3",
   "language": "python",
   "name": "python3"
  },
  "language_info": {
   "codemirror_mode": {
    "name": "ipython",
    "version": 3
   },
   "file_extension": ".py",
   "mimetype": "text/x-python",
   "name": "python",
   "nbconvert_exporter": "python",
   "pygments_lexer": "ipython3",
   "version": "3.7.9"
  }
 },
 "nbformat": 4,
 "nbformat_minor": 4
}
