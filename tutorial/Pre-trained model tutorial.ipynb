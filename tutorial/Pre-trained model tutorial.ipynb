{
 "cells": [
  {
   "cell_type": "markdown",
   "id": "3fb8dc6b",
   "metadata": {},
   "source": [
    "# Named entity recognition"
   ]
  },
  {
   "cell_type": "markdown",
   "id": "214f5882",
   "metadata": {},
   "source": [
    "Named entity recognition (NER) is a subtask of information extraction that seeks to locate and classify elements in text into pre-defined categories such as the names of persons, organizations, locations. This tutorial shows how to use the model trained in the process of this bachelor's thesis. The model is trained on 19th century court parish protocols."
   ]
  },
  {
   "cell_type": "markdown",
   "id": "3dbd0717",
   "metadata": {},
   "source": [
    "### 0. Prequisites"
   ]
  },
  {
   "cell_type": "code",
   "execution_count": 9,
   "id": "4d47ace7",
   "metadata": {},
   "outputs": [],
   "source": [
    "import os\n",
    "\n",
    "from preprocessing_protocols import preprocess_text\n",
    "from estnltk import Text"
   ]
  },
  {
   "cell_type": "markdown",
   "id": "9cb8f2ac",
   "metadata": {},
   "source": [
    "### 1. Load the NerTagger and use the settings of the pre-trained model directory"
   ]
  },
  {
   "cell_type": "markdown",
   "id": "d8e4cae0",
   "metadata": {},
   "source": [
    "The model directory given to the `NerTagger()` function should contain a `settings.py` file and a `model.bin` file."
   ]
  },
  {
   "cell_type": "code",
   "execution_count": 3,
   "id": "2f5db5b0",
   "metadata": {},
   "outputs": [],
   "source": [
    "from estnltk.taggers import NerTagger\n",
    "\n",
    "nertagger = NerTagger('model')"
   ]
  },
  {
   "cell_type": "markdown",
   "id": "0fb3b25d",
   "metadata": {},
   "source": [
    "### 2. Create a text object and preprocess the text with the included preprocessing module"
   ]
  },
  {
   "cell_type": "code",
   "execution_count": 6,
   "id": "f68251d2",
   "metadata": {},
   "outputs": [],
   "source": [
    "# Read in a protocol from a .txt file\n",
    "with open('protocol.txt', 'r', encoding='UTF-8') as in_f:\n",
    "    unprocessed_text = in_f.read()"
   ]
  },
  {
   "cell_type": "code",
   "execution_count": 7,
   "id": "afaf39f7",
   "metadata": {},
   "outputs": [
    {
     "data": {
      "text/plain": [
       "'Jüri Soots kaebab hra A. Kurikofi kui Peeter Widrikse kuratori wastu, kõrtsi rentimise kauba murdmise pärast.\\n\\nA. Kurikof wastab, et ta ennast siin kohtu ees selle kaebtuse peale sisse ei lase.\\n\\nEt Peeter Widriks kui Talina linna kodaniku seisuse liige, siia kohtu alla ei puutu, kaebtus ka mõisa walitsuse wastu käib. Tehti otsuseks: seda kaebtust siin kohtu ees mitte seletamise ala wõtta.\\n\\nOtsus sai kuulutud.\\n'"
      ]
     },
     "execution_count": 7,
     "metadata": {},
     "output_type": "execute_result"
    }
   ],
   "source": [
    "unprocessed_text"
   ]
  },
  {
   "cell_type": "code",
   "execution_count": 11,
   "id": "22b1239b",
   "metadata": {},
   "outputs": [],
   "source": [
    "text = Text(unprocessed_text)\n",
    "text = preprocess_text(text)"
   ]
  },
  {
   "cell_type": "code",
   "execution_count": 12,
   "id": "fd5b7616",
   "metadata": {},
   "outputs": [
    {
     "data": {
      "text/html": [
       "<table border=\"1\" class=\"dataframe\">\n",
       "  <thead>\n",
       "    <tr style=\"text-align: right;\">\n",
       "      <th>text</th>\n",
       "    </tr>\n",
       "  </thead>\n",
       "  <tbody>\n",
       "    <tr>\n",
       "      <td><div align = \"left\">Jüri Soots kaebab hra A. Kurikofi kui Peeter Widrikse kuratori wastu, kõrtsi rentimise kauba murdmise pärast.</br></br>A. Kurikof wastab, et ta ennast siin kohtu ees selle kaebtuse peale sisse ei lase.</br></br>Et Peeter Widriks kui Talina linna kodaniku seisuse liige, siia kohtu alla ei puutu, kaebtus ka mõisa walitsuse wastu käib. Tehti otsuseks: seda kaebtust siin kohtu ees mitte seletamise ala wõtta.</br></br>Otsus sai kuulutud.</br></div></td>\n",
       "    </tr>\n",
       "  </tbody>\n",
       "</table>\n",
       "<table border=\"1\" class=\"dataframe\">\n",
       "  <thead>\n",
       "    <tr style=\"text-align: right;\">\n",
       "      <th>layer name</th>\n",
       "      <th>attributes</th>\n",
       "      <th>parent</th>\n",
       "      <th>enveloping</th>\n",
       "      <th>ambiguous</th>\n",
       "      <th>span count</th>\n",
       "    </tr>\n",
       "  </thead>\n",
       "  <tbody>\n",
       "    <tr>\n",
       "      <td>sentences</td>\n",
       "      <td></td>\n",
       "      <td>None</td>\n",
       "      <td>words</td>\n",
       "      <td>False</td>\n",
       "      <td>7</td>\n",
       "    </tr>\n",
       "    <tr>\n",
       "      <td>tokens</td>\n",
       "      <td></td>\n",
       "      <td>None</td>\n",
       "      <td>None</td>\n",
       "      <td>False</td>\n",
       "      <td>77</td>\n",
       "    </tr>\n",
       "    <tr>\n",
       "      <td>compound_tokens</td>\n",
       "      <td>type, normalized</td>\n",
       "      <td>None</td>\n",
       "      <td>tokens</td>\n",
       "      <td>False</td>\n",
       "      <td>0</td>\n",
       "    </tr>\n",
       "    <tr>\n",
       "      <td>words</td>\n",
       "      <td>normalized_form</td>\n",
       "      <td>None</td>\n",
       "      <td>None</td>\n",
       "      <td>True</td>\n",
       "      <td>77</td>\n",
       "    </tr>\n",
       "    <tr>\n",
       "      <td>morph_analysis</td>\n",
       "      <td>normalized_text, lemma, root, root_tokens, ending, clitic, form, partofspeech</td>\n",
       "      <td>words</td>\n",
       "      <td>None</td>\n",
       "      <td>True</td>\n",
       "      <td>77</td>\n",
       "    </tr>\n",
       "  </tbody>\n",
       "</table>"
      ],
      "text/plain": [
       "Text(text='Jüri Soots kaebab hra A. Kurikofi kui Peeter Widrikse kuratori wastu, kõrtsi rentimise kauba murdmise pärast.\\n\\nA. Kurikof wastab, et ta ennast siin kohtu ees selle kaebtuse peale sisse ei lase.\\n\\nEt Peeter Widriks kui Talina linna kodaniku seisuse liige, siia kohtu alla ei puutu, kaebtus ka mõisa walitsuse wastu käib. Tehti otsuseks: seda kaebtust siin kohtu ees mitte seletamise ala wõtta.\\n\\nOtsus sai kuulutud.\\n')"
      ]
     },
     "execution_count": 12,
     "metadata": {},
     "output_type": "execute_result"
    }
   ],
   "source": [
    "text"
   ]
  },
  {
   "cell_type": "markdown",
   "id": "80b5ade0",
   "metadata": {},
   "source": [
    "### 3. Tag the text with the NerTagger"
   ]
  },
  {
   "cell_type": "code",
   "execution_count": 13,
   "id": "3fc4c1cf",
   "metadata": {},
   "outputs": [
    {
     "data": {
      "text/html": [
       "<table border=\"1\" class=\"dataframe\">\n",
       "  <thead>\n",
       "    <tr style=\"text-align: right;\">\n",
       "      <th>text</th>\n",
       "    </tr>\n",
       "  </thead>\n",
       "  <tbody>\n",
       "    <tr>\n",
       "      <td><div align = \"left\">Jüri Soots kaebab hra A. Kurikofi kui Peeter Widrikse kuratori wastu, kõrtsi rentimise kauba murdmise pärast.</br></br>A. Kurikof wastab, et ta ennast siin kohtu ees selle kaebtuse peale sisse ei lase.</br></br>Et Peeter Widriks kui Talina linna kodaniku seisuse liige, siia kohtu alla ei puutu, kaebtus ka mõisa walitsuse wastu käib. Tehti otsuseks: seda kaebtust siin kohtu ees mitte seletamise ala wõtta.</br></br>Otsus sai kuulutud.</br></div></td>\n",
       "    </tr>\n",
       "  </tbody>\n",
       "</table>\n",
       "<table border=\"1\" class=\"dataframe\">\n",
       "  <thead>\n",
       "    <tr style=\"text-align: right;\">\n",
       "      <th>layer name</th>\n",
       "      <th>attributes</th>\n",
       "      <th>parent</th>\n",
       "      <th>enveloping</th>\n",
       "      <th>ambiguous</th>\n",
       "      <th>span count</th>\n",
       "    </tr>\n",
       "  </thead>\n",
       "  <tbody>\n",
       "    <tr>\n",
       "      <td>sentences</td>\n",
       "      <td></td>\n",
       "      <td>None</td>\n",
       "      <td>words</td>\n",
       "      <td>False</td>\n",
       "      <td>7</td>\n",
       "    </tr>\n",
       "    <tr>\n",
       "      <td>tokens</td>\n",
       "      <td></td>\n",
       "      <td>None</td>\n",
       "      <td>None</td>\n",
       "      <td>False</td>\n",
       "      <td>77</td>\n",
       "    </tr>\n",
       "    <tr>\n",
       "      <td>compound_tokens</td>\n",
       "      <td>type, normalized</td>\n",
       "      <td>None</td>\n",
       "      <td>tokens</td>\n",
       "      <td>False</td>\n",
       "      <td>0</td>\n",
       "    </tr>\n",
       "    <tr>\n",
       "      <td>words</td>\n",
       "      <td>normalized_form</td>\n",
       "      <td>None</td>\n",
       "      <td>None</td>\n",
       "      <td>True</td>\n",
       "      <td>77</td>\n",
       "    </tr>\n",
       "    <tr>\n",
       "      <td>morph_analysis</td>\n",
       "      <td>normalized_text, lemma, root, root_tokens, ending, clitic, form, partofspeech</td>\n",
       "      <td>words</td>\n",
       "      <td>None</td>\n",
       "      <td>True</td>\n",
       "      <td>77</td>\n",
       "    </tr>\n",
       "    <tr>\n",
       "      <td>ner</td>\n",
       "      <td>nertag</td>\n",
       "      <td>None</td>\n",
       "      <td>words</td>\n",
       "      <td>False</td>\n",
       "      <td>5</td>\n",
       "    </tr>\n",
       "  </tbody>\n",
       "</table>"
      ],
      "text/plain": [
       "Text(text='Jüri Soots kaebab hra A. Kurikofi kui Peeter Widrikse kuratori wastu, kõrtsi rentimise kauba murdmise pärast.\\n\\nA. Kurikof wastab, et ta ennast siin kohtu ees selle kaebtuse peale sisse ei lase.\\n\\nEt Peeter Widriks kui Talina linna kodaniku seisuse liige, siia kohtu alla ei puutu, kaebtus ka mõisa walitsuse wastu käib. Tehti otsuseks: seda kaebtust siin kohtu ees mitte seletamise ala wõtta.\\n\\nOtsus sai kuulutud.\\n')"
      ]
     },
     "execution_count": 13,
     "metadata": {},
     "output_type": "execute_result"
    }
   ],
   "source": [
    "nertagger.tag(text)"
   ]
  },
  {
   "cell_type": "markdown",
   "id": "0d9800ee",
   "metadata": {},
   "source": [
    "### 4. Check the ner tags"
   ]
  },
  {
   "cell_type": "code",
   "execution_count": 14,
   "id": "dfd6c68f",
   "metadata": {},
   "outputs": [
    {
     "data": {
      "text/html": [
       "<h4>Layer</h4>\n",
       "\n",
       "\n",
       "<table border=\"1\" class=\"dataframe\">\n",
       "  <thead>\n",
       "    <tr style=\"text-align: right;\">\n",
       "      <th>layer name</th>\n",
       "      <th>attributes</th>\n",
       "      <th>parent</th>\n",
       "      <th>enveloping</th>\n",
       "      <th>ambiguous</th>\n",
       "      <th>span count</th>\n",
       "    </tr>\n",
       "  </thead>\n",
       "  <tbody>\n",
       "    <tr>\n",
       "      <td>ner</td>\n",
       "      <td>nertag</td>\n",
       "      <td>None</td>\n",
       "      <td>words</td>\n",
       "      <td>False</td>\n",
       "      <td>5</td>\n",
       "    </tr>\n",
       "  </tbody>\n",
       "</table>\n",
       "<table border=\"1\" class=\"dataframe\">\n",
       "  <thead>\n",
       "    <tr style=\"text-align: right;\">\n",
       "      <th>text</th>\n",
       "      <th>nertag</th>\n",
       "    </tr>\n",
       "  </thead>\n",
       "  <tbody>\n",
       "    <tr>\n",
       "      <td>['Jüri', 'Soots']</td>\n",
       "      <td>PER</td>\n",
       "    </tr>\n",
       "    <tr>\n",
       "      <td>['A', '.', 'Kurikofi']</td>\n",
       "      <td>PER</td>\n",
       "    </tr>\n",
       "    <tr>\n",
       "      <td>['Peeter', 'Widrikse']</td>\n",
       "      <td>PER</td>\n",
       "    </tr>\n",
       "    <tr>\n",
       "      <td>['A', '.', 'Kurikof']</td>\n",
       "      <td>PER</td>\n",
       "    </tr>\n",
       "    <tr>\n",
       "      <td>['Peeter', 'Widriks']</td>\n",
       "      <td>PER</td>\n",
       "    </tr>\n",
       "  </tbody>\n",
       "</table>"
      ],
      "text/plain": [
       "Layer(name='ner', attributes=('nertag',), spans=SL[EnvelopingSpan(['Jüri', 'Soots'], [{'nertag': 'PER'}]),\n",
       "EnvelopingSpan(['A', '.', 'Kurikofi'], [{'nertag': 'PER'}]),\n",
       "EnvelopingSpan(['Peeter', 'Widrikse'], [{'nertag': 'PER'}]),\n",
       "EnvelopingSpan(['A', '.', 'Kurikof'], [{'nertag': 'PER'}]),\n",
       "EnvelopingSpan(['Peeter', 'Widriks'], [{'nertag': 'PER'}])])"
      ]
     },
     "execution_count": 14,
     "metadata": {},
     "output_type": "execute_result"
    }
   ],
   "source": [
    "text.ner"
   ]
  }
 ],
 "metadata": {
  "kernelspec": {
   "display_name": "Python 3",
   "language": "python",
   "name": "python3"
  },
  "language_info": {
   "codemirror_mode": {
    "name": "ipython",
    "version": 3
   },
   "file_extension": ".py",
   "mimetype": "text/x-python",
   "name": "python",
   "nbconvert_exporter": "python",
   "pygments_lexer": "ipython3",
   "version": "3.8.10"
  }
 },
 "nbformat": 4,
 "nbformat_minor": 5
}
